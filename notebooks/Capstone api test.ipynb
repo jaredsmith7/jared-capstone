{
 "cells": [
  {
   "cell_type": "code",
   "execution_count": 1,
   "id": "9f18b100",
   "metadata": {},
   "outputs": [],
   "source": [
    "import requests\n",
    "import pandas as pd\n",
    "import matplotlib.pyplot as plt\n",
    "import json"
   ]
  },
  {
   "cell_type": "code",
   "execution_count": 2,
   "id": "45262213",
   "metadata": {},
   "outputs": [],
   "source": [
    "with open(r'C:\\Users\\jared\\Desktop\\nss\\Python\\data\\new_key.json') as fi:\n",
    "    credentials = json.load(fi)"
   ]
  },
  {
   "cell_type": "code",
   "execution_count": 3,
   "id": "06aa56c7",
   "metadata": {},
   "outputs": [],
   "source": [
    "api_key = credentials[\"api_key\"]"
   ]
  },
  {
   "cell_type": "code",
   "execution_count": 4,
   "id": "5c5f746e",
   "metadata": {},
   "outputs": [],
   "source": [
    "endpoint = 'https://api.census.gov/data/timeseries/poverty/saipe?get=NAME,SAEPOVRTALL_PT&for=county:*&in=state:47&YEAR=2021&key={0}'.format(api_key)\n",
    "\n",
    "params = {\n",
    "    'Year':2021,\n",
    "    'State': 'TN'\n",
    "}\n",
    "\n",
    "response = requests.get(endpoint)"
   ]
  },
  {
   "cell_type": "code",
   "execution_count": 5,
   "id": "afc9a855",
   "metadata": {},
   "outputs": [
    {
     "data": {
      "text/plain": [
       "<Response [200]>"
      ]
     },
     "execution_count": 5,
     "metadata": {},
     "output_type": "execute_result"
    }
   ],
   "source": [
    "response"
   ]
  },
  {
   "cell_type": "code",
   "execution_count": 6,
   "id": "a854c1b4",
   "metadata": {},
   "outputs": [
    {
     "data": {
      "text/plain": [
       "'[[\"NAME\",\"SAEPOVRTALL_PT\",\"YEAR\",\"state\",\"county\"],\\n[\"Anderson County\",\"14.3\",\"2021\",\"47\",\"001\"],\\n[\"Bedford County\",\"13.4\",\"2021\",\"47\",\"003\"],\\n[\"Benton County\",\"18.3\",\"2021\",\"47\",\"005\"],\\n[\"Bledsoe County\",\"22.1\",\"2021\",\"47\",\"007\"],\\n[\"Blount County\",\"9.7\",\"2021\",\"47\",\"009\"],\\n[\"Bradley County\",\"11.7\",\"2021\",\"47\",\"011\"],\\n[\"Campbell County\",\"19.9\",\"2021\",\"47\",\"013\"],\\n[\"Cannon County\",\"14.9\",\"2021\",\"47\",\"015\"],\\n[\"Carroll County\",\"15.9\",\"2021\",\"47\",\"017\"],\\n[\"Carter County\",\"17.1\",\"2021\",\"47\",\"019\"],\\n[\"Cheatham County\",\"8.6\",\"2021\",\"47\",\"021\"],\\n[\"Chester County\",\"17.6\",\"2021\",\"47\",\"023\"],\\n[\"Claiborne County\",\"17.1\",\"2021\",\"47\",\"025\"],\\n[\"Clay County\",\"18.7\",\"2021\",\"47\",\"027\"],\\n[\"Cocke County\",\"21.0\",\"2021\",\"47\",\"029\"],\\n[\"Coffee County\",\"15.6\",\"2021\",\"47\",\"031\"],\\n[\"Crockett County\",\"15.6\",\"2021\",\"47\",\"033\"],\\n[\"Cumberland County\",\"14.9\",\"2021\",\"47\",\"035\"],\\n[\"Davidson County\",\"15.0\",\"2021\",\"47\",\"037\"],\\n[\"Decatur County\",\"17.7\",\"2021\",\"47\",\"039\"],\\n[\"DeKalb County\",\"15.5\",\"2021\",\"47\",\"041\"],\\n[\"Dickson County\",\"12.1\",\"2021\",\"47\",\"043\"],\\n[\"Dyer County\",\"16.0\",\"2021\",\"47\",\"045\"],\\n[\"Fayette County\",\"12.3\",\"2021\",\"47\",\"047\"],\\n[\"Fentress County\",\"19.9\",\"2021\",\"47\",\"049\"],\\n[\"Franklin County\",\"12.4\",\"2021\",\"47\",\"051\"],\\n[\"Gibson County\",\"13.4\",\"2021\",\"47\",\"053\"],\\n[\"Giles County\",\"12.4\",\"2021\",\"47\",\"055\"],\\n[\"Grainger County\",\"16.9\",\"2021\",\"47\",\"057\"],\\n[\"Greene County\",\"12.5\",\"2021\",\"47\",\"059\"],\\n[\"Grundy County\",\"20.5\",\"2021\",\"47\",\"061\"],\\n[\"Hamblen County\",\"18.4\",\"2021\",\"47\",\"063\"],\\n[\"Hamilton County\",\"12.6\",\"2021\",\"47\",\"065\"],\\n[\"Hancock County\",\"27.6\",\"2021\",\"47\",\"067\"],\\n[\"Hardeman County\",\"20.9\",\"2021\",\"47\",\"069\"],\\n[\"Hardin County\",\"17.6\",\"2021\",\"47\",\"071\"],\\n[\"Hawkins County\",\"16.5\",\"2021\",\"47\",\"073\"],\\n[\"Haywood County\",\"21.3\",\"2021\",\"47\",\"075\"],\\n[\"Henderson County\",\"13.6\",\"2021\",\"47\",\"077\"],\\n[\"Henry County\",\"16.4\",\"2021\",\"47\",\"079\"],\\n[\"Hickman County\",\"16.3\",\"2021\",\"47\",\"081\"],\\n[\"Houston County\",\"15.3\",\"2021\",\"47\",\"083\"],\\n[\"Humphreys County\",\"12.1\",\"2021\",\"47\",\"085\"],\\n[\"Jackson County\",\"21.2\",\"2021\",\"47\",\"087\"],\\n[\"Jefferson County\",\"14.7\",\"2021\",\"47\",\"089\"],\\n[\"Johnson County\",\"23.7\",\"2021\",\"47\",\"091\"],\\n[\"Knox County\",\"12.1\",\"2021\",\"47\",\"093\"],\\n[\"Lake County\",\"33.4\",\"2021\",\"47\",\"095\"],\\n[\"Lauderdale County\",\"21.5\",\"2021\",\"47\",\"097\"],\\n[\"Lawrence County\",\"13.6\",\"2021\",\"47\",\"099\"],\\n[\"Lewis County\",\"14.7\",\"2021\",\"47\",\"101\"],\\n[\"Lincoln County\",\"14.6\",\"2021\",\"47\",\"103\"],\\n[\"Loudon County\",\"9.6\",\"2021\",\"47\",\"105\"],\\n[\"McMinn County\",\"14.5\",\"2021\",\"47\",\"107\"],\\n[\"McNairy County\",\"15.4\",\"2021\",\"47\",\"109\"],\\n[\"Macon County\",\"15.9\",\"2021\",\"47\",\"111\"],\\n[\"Madison County\",\"17.1\",\"2021\",\"47\",\"113\"],\\n[\"Marion County\",\"16.2\",\"2021\",\"47\",\"115\"],\\n[\"Marshall County\",\"11.1\",\"2021\",\"47\",\"117\"],\\n[\"Maury County\",\"10.3\",\"2021\",\"47\",\"119\"],\\n[\"Meigs County\",\"15.2\",\"2021\",\"47\",\"121\"],\\n[\"Monroe County\",\"15.6\",\"2021\",\"47\",\"123\"],\\n[\"Montgomery County\",\"10.8\",\"2021\",\"47\",\"125\"],\\n[\"Moore County\",\"9.7\",\"2021\",\"47\",\"127\"],\\n[\"Morgan County\",\"18.1\",\"2021\",\"47\",\"129\"],\\n[\"Obion County\",\"15.5\",\"2021\",\"47\",\"131\"],\\n[\"Overton County\",\"14.9\",\"2021\",\"47\",\"133\"],\\n[\"Perry County\",\"17.0\",\"2021\",\"47\",\"135\"],\\n[\"Pickett County\",\"14.2\",\"2021\",\"47\",\"137\"],\\n[\"Polk County\",\"13.5\",\"2021\",\"47\",\"139\"],\\n[\"Putnam County\",\"13.7\",\"2021\",\"47\",\"141\"],\\n[\"Rhea County\",\"15.8\",\"2021\",\"47\",\"143\"],\\n[\"Roane County\",\"13.1\",\"2021\",\"47\",\"145\"],\\n[\"Robertson County\",\"10.5\",\"2021\",\"47\",\"147\"],\\n[\"Rutherford County\",\"8.7\",\"2021\",\"47\",\"149\"],\\n[\"Scott County\",\"22.4\",\"2021\",\"47\",\"151\"],\\n[\"Sequatchie County\",\"13.6\",\"2021\",\"47\",\"153\"],\\n[\"Sevier County\",\"13.2\",\"2021\",\"47\",\"155\"],\\n[\"Shelby County\",\"18.0\",\"2021\",\"47\",\"157\"],\\n[\"Smith County\",\"11.7\",\"2021\",\"47\",\"159\"],\\n[\"Stewart County\",\"13.3\",\"2021\",\"47\",\"161\"],\\n[\"Sullivan County\",\"17.1\",\"2021\",\"47\",\"163\"],\\n[\"Sumner County\",\"8.6\",\"2021\",\"47\",\"165\"],\\n[\"Tipton County\",\"13.1\",\"2021\",\"47\",\"167\"],\\n[\"Trousdale County\",\"17.8\",\"2021\",\"47\",\"169\"],\\n[\"Unicoi County\",\"14.5\",\"2021\",\"47\",\"171\"],\\n[\"Union County\",\"15.6\",\"2021\",\"47\",\"173\"],\\n[\"Van Buren County\",\"17.0\",\"2021\",\"47\",\"175\"],\\n[\"Warren County\",\"15.6\",\"2021\",\"47\",\"177\"],\\n[\"Washington County\",\"14.3\",\"2021\",\"47\",\"179\"],\\n[\"Wayne County\",\"19.8\",\"2021\",\"47\",\"181\"],\\n[\"Weakley County\",\"18.0\",\"2021\",\"47\",\"183\"],\\n[\"White County\",\"16.4\",\"2021\",\"47\",\"185\"],\\n[\"Williamson County\",\"4.0\",\"2021\",\"47\",\"187\"],\\n[\"Wilson County\",\"7.5\",\"2021\",\"47\",\"189\"]]'"
      ]
     },
     "execution_count": 6,
     "metadata": {},
     "output_type": "execute_result"
    }
   ],
   "source": [
    "response.text"
   ]
  },
  {
   "cell_type": "code",
   "execution_count": 7,
   "id": "6b3dc9a7",
   "metadata": {},
   "outputs": [
    {
     "data": {
      "text/plain": [
       "[['NAME', 'SAEPOVRTALL_PT', 'YEAR', 'state', 'county'],\n",
       " ['Anderson County', '14.3', '2021', '47', '001'],\n",
       " ['Bedford County', '13.4', '2021', '47', '003'],\n",
       " ['Benton County', '18.3', '2021', '47', '005'],\n",
       " ['Bledsoe County', '22.1', '2021', '47', '007'],\n",
       " ['Blount County', '9.7', '2021', '47', '009'],\n",
       " ['Bradley County', '11.7', '2021', '47', '011'],\n",
       " ['Campbell County', '19.9', '2021', '47', '013'],\n",
       " ['Cannon County', '14.9', '2021', '47', '015'],\n",
       " ['Carroll County', '15.9', '2021', '47', '017'],\n",
       " ['Carter County', '17.1', '2021', '47', '019'],\n",
       " ['Cheatham County', '8.6', '2021', '47', '021'],\n",
       " ['Chester County', '17.6', '2021', '47', '023'],\n",
       " ['Claiborne County', '17.1', '2021', '47', '025'],\n",
       " ['Clay County', '18.7', '2021', '47', '027'],\n",
       " ['Cocke County', '21.0', '2021', '47', '029'],\n",
       " ['Coffee County', '15.6', '2021', '47', '031'],\n",
       " ['Crockett County', '15.6', '2021', '47', '033'],\n",
       " ['Cumberland County', '14.9', '2021', '47', '035'],\n",
       " ['Davidson County', '15.0', '2021', '47', '037'],\n",
       " ['Decatur County', '17.7', '2021', '47', '039'],\n",
       " ['DeKalb County', '15.5', '2021', '47', '041'],\n",
       " ['Dickson County', '12.1', '2021', '47', '043'],\n",
       " ['Dyer County', '16.0', '2021', '47', '045'],\n",
       " ['Fayette County', '12.3', '2021', '47', '047'],\n",
       " ['Fentress County', '19.9', '2021', '47', '049'],\n",
       " ['Franklin County', '12.4', '2021', '47', '051'],\n",
       " ['Gibson County', '13.4', '2021', '47', '053'],\n",
       " ['Giles County', '12.4', '2021', '47', '055'],\n",
       " ['Grainger County', '16.9', '2021', '47', '057'],\n",
       " ['Greene County', '12.5', '2021', '47', '059'],\n",
       " ['Grundy County', '20.5', '2021', '47', '061'],\n",
       " ['Hamblen County', '18.4', '2021', '47', '063'],\n",
       " ['Hamilton County', '12.6', '2021', '47', '065'],\n",
       " ['Hancock County', '27.6', '2021', '47', '067'],\n",
       " ['Hardeman County', '20.9', '2021', '47', '069'],\n",
       " ['Hardin County', '17.6', '2021', '47', '071'],\n",
       " ['Hawkins County', '16.5', '2021', '47', '073'],\n",
       " ['Haywood County', '21.3', '2021', '47', '075'],\n",
       " ['Henderson County', '13.6', '2021', '47', '077'],\n",
       " ['Henry County', '16.4', '2021', '47', '079'],\n",
       " ['Hickman County', '16.3', '2021', '47', '081'],\n",
       " ['Houston County', '15.3', '2021', '47', '083'],\n",
       " ['Humphreys County', '12.1', '2021', '47', '085'],\n",
       " ['Jackson County', '21.2', '2021', '47', '087'],\n",
       " ['Jefferson County', '14.7', '2021', '47', '089'],\n",
       " ['Johnson County', '23.7', '2021', '47', '091'],\n",
       " ['Knox County', '12.1', '2021', '47', '093'],\n",
       " ['Lake County', '33.4', '2021', '47', '095'],\n",
       " ['Lauderdale County', '21.5', '2021', '47', '097'],\n",
       " ['Lawrence County', '13.6', '2021', '47', '099'],\n",
       " ['Lewis County', '14.7', '2021', '47', '101'],\n",
       " ['Lincoln County', '14.6', '2021', '47', '103'],\n",
       " ['Loudon County', '9.6', '2021', '47', '105'],\n",
       " ['McMinn County', '14.5', '2021', '47', '107'],\n",
       " ['McNairy County', '15.4', '2021', '47', '109'],\n",
       " ['Macon County', '15.9', '2021', '47', '111'],\n",
       " ['Madison County', '17.1', '2021', '47', '113'],\n",
       " ['Marion County', '16.2', '2021', '47', '115'],\n",
       " ['Marshall County', '11.1', '2021', '47', '117'],\n",
       " ['Maury County', '10.3', '2021', '47', '119'],\n",
       " ['Meigs County', '15.2', '2021', '47', '121'],\n",
       " ['Monroe County', '15.6', '2021', '47', '123'],\n",
       " ['Montgomery County', '10.8', '2021', '47', '125'],\n",
       " ['Moore County', '9.7', '2021', '47', '127'],\n",
       " ['Morgan County', '18.1', '2021', '47', '129'],\n",
       " ['Obion County', '15.5', '2021', '47', '131'],\n",
       " ['Overton County', '14.9', '2021', '47', '133'],\n",
       " ['Perry County', '17.0', '2021', '47', '135'],\n",
       " ['Pickett County', '14.2', '2021', '47', '137'],\n",
       " ['Polk County', '13.5', '2021', '47', '139'],\n",
       " ['Putnam County', '13.7', '2021', '47', '141'],\n",
       " ['Rhea County', '15.8', '2021', '47', '143'],\n",
       " ['Roane County', '13.1', '2021', '47', '145'],\n",
       " ['Robertson County', '10.5', '2021', '47', '147'],\n",
       " ['Rutherford County', '8.7', '2021', '47', '149'],\n",
       " ['Scott County', '22.4', '2021', '47', '151'],\n",
       " ['Sequatchie County', '13.6', '2021', '47', '153'],\n",
       " ['Sevier County', '13.2', '2021', '47', '155'],\n",
       " ['Shelby County', '18.0', '2021', '47', '157'],\n",
       " ['Smith County', '11.7', '2021', '47', '159'],\n",
       " ['Stewart County', '13.3', '2021', '47', '161'],\n",
       " ['Sullivan County', '17.1', '2021', '47', '163'],\n",
       " ['Sumner County', '8.6', '2021', '47', '165'],\n",
       " ['Tipton County', '13.1', '2021', '47', '167'],\n",
       " ['Trousdale County', '17.8', '2021', '47', '169'],\n",
       " ['Unicoi County', '14.5', '2021', '47', '171'],\n",
       " ['Union County', '15.6', '2021', '47', '173'],\n",
       " ['Van Buren County', '17.0', '2021', '47', '175'],\n",
       " ['Warren County', '15.6', '2021', '47', '177'],\n",
       " ['Washington County', '14.3', '2021', '47', '179'],\n",
       " ['Wayne County', '19.8', '2021', '47', '181'],\n",
       " ['Weakley County', '18.0', '2021', '47', '183'],\n",
       " ['White County', '16.4', '2021', '47', '185'],\n",
       " ['Williamson County', '4.0', '2021', '47', '187'],\n",
       " ['Wilson County', '7.5', '2021', '47', '189']]"
      ]
     },
     "execution_count": 7,
     "metadata": {},
     "output_type": "execute_result"
    }
   ],
   "source": [
    "res = response.json()\n",
    "res"
   ]
  },
  {
   "cell_type": "code",
   "execution_count": 8,
   "id": "a8d687f0",
   "metadata": {},
   "outputs": [
    {
     "data": {
      "text/html": [
       "<div>\n",
       "<style scoped>\n",
       "    .dataframe tbody tr th:only-of-type {\n",
       "        vertical-align: middle;\n",
       "    }\n",
       "\n",
       "    .dataframe tbody tr th {\n",
       "        vertical-align: top;\n",
       "    }\n",
       "\n",
       "    .dataframe thead th {\n",
       "        text-align: right;\n",
       "    }\n",
       "</style>\n",
       "<table border=\"1\" class=\"dataframe\">\n",
       "  <thead>\n",
       "    <tr style=\"text-align: right;\">\n",
       "      <th></th>\n",
       "      <th>0</th>\n",
       "      <th>1</th>\n",
       "      <th>2</th>\n",
       "      <th>3</th>\n",
       "      <th>4</th>\n",
       "    </tr>\n",
       "  </thead>\n",
       "  <tbody>\n",
       "    <tr>\n",
       "      <th>0</th>\n",
       "      <td>NAME</td>\n",
       "      <td>SAEPOVRTALL_PT</td>\n",
       "      <td>YEAR</td>\n",
       "      <td>state</td>\n",
       "      <td>county</td>\n",
       "    </tr>\n",
       "    <tr>\n",
       "      <th>1</th>\n",
       "      <td>Anderson County</td>\n",
       "      <td>14.3</td>\n",
       "      <td>2021</td>\n",
       "      <td>47</td>\n",
       "      <td>001</td>\n",
       "    </tr>\n",
       "    <tr>\n",
       "      <th>2</th>\n",
       "      <td>Bedford County</td>\n",
       "      <td>13.4</td>\n",
       "      <td>2021</td>\n",
       "      <td>47</td>\n",
       "      <td>003</td>\n",
       "    </tr>\n",
       "    <tr>\n",
       "      <th>3</th>\n",
       "      <td>Benton County</td>\n",
       "      <td>18.3</td>\n",
       "      <td>2021</td>\n",
       "      <td>47</td>\n",
       "      <td>005</td>\n",
       "    </tr>\n",
       "    <tr>\n",
       "      <th>4</th>\n",
       "      <td>Bledsoe County</td>\n",
       "      <td>22.1</td>\n",
       "      <td>2021</td>\n",
       "      <td>47</td>\n",
       "      <td>007</td>\n",
       "    </tr>\n",
       "    <tr>\n",
       "      <th>...</th>\n",
       "      <td>...</td>\n",
       "      <td>...</td>\n",
       "      <td>...</td>\n",
       "      <td>...</td>\n",
       "      <td>...</td>\n",
       "    </tr>\n",
       "    <tr>\n",
       "      <th>91</th>\n",
       "      <td>Wayne County</td>\n",
       "      <td>19.8</td>\n",
       "      <td>2021</td>\n",
       "      <td>47</td>\n",
       "      <td>181</td>\n",
       "    </tr>\n",
       "    <tr>\n",
       "      <th>92</th>\n",
       "      <td>Weakley County</td>\n",
       "      <td>18.0</td>\n",
       "      <td>2021</td>\n",
       "      <td>47</td>\n",
       "      <td>183</td>\n",
       "    </tr>\n",
       "    <tr>\n",
       "      <th>93</th>\n",
       "      <td>White County</td>\n",
       "      <td>16.4</td>\n",
       "      <td>2021</td>\n",
       "      <td>47</td>\n",
       "      <td>185</td>\n",
       "    </tr>\n",
       "    <tr>\n",
       "      <th>94</th>\n",
       "      <td>Williamson County</td>\n",
       "      <td>4.0</td>\n",
       "      <td>2021</td>\n",
       "      <td>47</td>\n",
       "      <td>187</td>\n",
       "    </tr>\n",
       "    <tr>\n",
       "      <th>95</th>\n",
       "      <td>Wilson County</td>\n",
       "      <td>7.5</td>\n",
       "      <td>2021</td>\n",
       "      <td>47</td>\n",
       "      <td>189</td>\n",
       "    </tr>\n",
       "  </tbody>\n",
       "</table>\n",
       "<p>96 rows × 5 columns</p>\n",
       "</div>"
      ],
      "text/plain": [
       "                    0               1     2      3       4\n",
       "0                NAME  SAEPOVRTALL_PT  YEAR  state  county\n",
       "1     Anderson County            14.3  2021     47     001\n",
       "2      Bedford County            13.4  2021     47     003\n",
       "3       Benton County            18.3  2021     47     005\n",
       "4      Bledsoe County            22.1  2021     47     007\n",
       "..                ...             ...   ...    ...     ...\n",
       "91       Wayne County            19.8  2021     47     181\n",
       "92     Weakley County            18.0  2021     47     183\n",
       "93       White County            16.4  2021     47     185\n",
       "94  Williamson County             4.0  2021     47     187\n",
       "95      Wilson County             7.5  2021     47     189\n",
       "\n",
       "[96 rows x 5 columns]"
      ]
     },
     "execution_count": 8,
     "metadata": {},
     "output_type": "execute_result"
    }
   ],
   "source": [
    "poverty = pd.DataFrame(res)\n",
    "poverty"
   ]
  },
  {
   "cell_type": "code",
   "execution_count": null,
   "id": "c1f8fcf4",
   "metadata": {},
   "outputs": [],
   "source": []
  }
 ],
 "metadata": {
  "kernelspec": {
   "display_name": "Python 3 (ipykernel)",
   "language": "python",
   "name": "python3"
  },
  "language_info": {
   "codemirror_mode": {
    "name": "ipython",
    "version": 3
   },
   "file_extension": ".py",
   "mimetype": "text/x-python",
   "name": "python",
   "nbconvert_exporter": "python",
   "pygments_lexer": "ipython3",
   "version": "3.10.9"
  }
 },
 "nbformat": 4,
 "nbformat_minor": 5
}
