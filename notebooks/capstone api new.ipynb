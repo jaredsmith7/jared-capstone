{
 "cells": [
  {
   "cell_type": "code",
   "execution_count": null,
   "id": "9f18b100",
   "metadata": {},
   "outputs": [],
   "source": [
    "import requests\n",
    "import pandas as pd\n",
    "import matplotlib.pyplot as plt\n",
    "import json"
   ]
  },
  {
   "cell_type": "code",
   "execution_count": null,
   "id": "45262213",
   "metadata": {},
   "outputs": [],
   "source": [
    "with open(r'C:\\Users\\jared\\Desktop\\nss\\Python\\data\\new_key.json') as fi:\n",
    "    credentials = json.load(fi)"
   ]
  },
  {
   "cell_type": "code",
   "execution_count": null,
   "id": "06aa56c7",
   "metadata": {},
   "outputs": [],
   "source": [
    "api_key = credentials[\"api_key\"]"
   ]
  },
  {
   "cell_type": "code",
   "execution_count": null,
   "id": "5c5f746e",
   "metadata": {},
   "outputs": [],
   "source": [
    "endpoint = 'https://api.census.gov/data/timeseries/poverty/saipe?get=NAME,SAEPOVRTALL_PT&for=county:*&in=state:47&YEAR=2020&key={0}'.format(api_key)\n",
    "\n",
    "params = {\n",
    "    'Year':2021,\n",
    "    'State': 'TN'\n",
    "}\n",
    "\n",
    "response = requests.get(endpoint)"
   ]
  },
  {
   "cell_type": "code",
   "execution_count": null,
   "id": "afc9a855",
   "metadata": {},
   "outputs": [],
   "source": [
    "response"
   ]
  },
  {
   "cell_type": "code",
   "execution_count": null,
   "id": "a854c1b4",
   "metadata": {},
   "outputs": [],
   "source": [
    "response.text"
   ]
  },
  {
   "cell_type": "code",
   "execution_count": null,
   "id": "6b3dc9a7",
   "metadata": {},
   "outputs": [],
   "source": [
    "res = response.json()\n",
    "res"
   ]
  },
  {
   "cell_type": "code",
   "execution_count": null,
   "id": "a8d687f0",
   "metadata": {},
   "outputs": [],
   "source": [
    "poverty = pd.DataFrame(res)\n",
    "poverty"
   ]
  },
  {
   "cell_type": "code",
   "execution_count": null,
   "id": "34754eac",
   "metadata": {},
   "outputs": [],
   "source": [
    "new_headers = poverty.iloc[0]\n",
    "poverty = poverty[1:]\n",
    "poverty.columns = new_headers\n",
    "poverty"
   ]
  },
  {
   "cell_type": "code",
   "execution_count": null,
   "id": "c1f8fcf4",
   "metadata": {},
   "outputs": [],
   "source": [
    "endpoint_2 = 'https://api.census.gov/data/timeseries/poverty/saipe?get=NAME,SAEMHI_PT&for=county:*&in=state:47&YEAR=2020&key={0}'.format(api_key)\n",
    "\n",
    "params = {\n",
    "    'Year':2021,\n",
    "    'State': 'TN'\n",
    "}\n",
    "\n",
    "response_2 = requests.get(endpoint_2)"
   ]
  },
  {
   "cell_type": "code",
   "execution_count": null,
   "id": "7ae7789d",
   "metadata": {},
   "outputs": [],
   "source": [
    "response_2"
   ]
  },
  {
   "cell_type": "code",
   "execution_count": null,
   "id": "b139067a",
   "metadata": {},
   "outputs": [],
   "source": [
    "res_2 = response_2.json()\n",
    "res_2"
   ]
  },
  {
   "cell_type": "code",
   "execution_count": null,
   "id": "44d1ae54",
   "metadata": {},
   "outputs": [],
   "source": [
    "median_income = pd.DataFrame(res_2)\n",
    "median_income"
   ]
  },
  {
   "cell_type": "code",
   "execution_count": null,
   "id": "a6f308be",
   "metadata": {},
   "outputs": [],
   "source": [
    "new_headers_2 = median_income.iloc[0]\n",
    "median_income = median_income[1:]\n",
    "median_income.columns = new_headers_2\n",
    "median_income"
   ]
  },
  {
   "cell_type": "code",
   "execution_count": null,
   "id": "db9b0337",
   "metadata": {},
   "outputs": [],
   "source": [
    "endpoint_3 = 'https://api.census.gov/data/2020/dec/pl?get=NAME,P1_001N&for=county:*&in=state:47&key={0}'.format(api_key)\n",
    "\n",
    "\n",
    "response_3 = requests.get(endpoint_3)\n"
   ]
  },
  {
   "cell_type": "code",
   "execution_count": null,
   "id": "cab04c8a",
   "metadata": {},
   "outputs": [],
   "source": [
    "response_3"
   ]
  },
  {
   "cell_type": "code",
   "execution_count": null,
   "id": "85083486",
   "metadata": {},
   "outputs": [],
   "source": [
    "res_3 = response_3.json()\n",
    "res_3"
   ]
  },
  {
   "cell_type": "code",
   "execution_count": null,
   "id": "841f6dc2",
   "metadata": {},
   "outputs": [],
   "source": [
    "population = pd.DataFrame(res_3)\n",
    "population"
   ]
  },
  {
   "cell_type": "code",
   "execution_count": null,
   "id": "ce65c383",
   "metadata": {
    "scrolled": true
   },
   "outputs": [],
   "source": [
    "new_headers_3 = population.iloc[0]\n",
    "population = population[1:]\n",
    "population.columns = new_headers_3\n",
    "population"
   ]
  },
  {
   "cell_type": "code",
   "execution_count": null,
   "id": "a87867b2",
   "metadata": {},
   "outputs": [],
   "source": [
    "pop_i = pd.merge(population, median_income, on=['state','county'])\n",
    "pop_i"
   ]
  },
  {
   "cell_type": "code",
   "execution_count": null,
   "id": "b415a42d",
   "metadata": {},
   "outputs": [],
   "source": [
    "all_metrics = pd.merge(pop_i, poverty, on=['state','county','YEAR'])\n",
    "all_metrics"
   ]
  },
  {
   "cell_type": "code",
   "execution_count": null,
   "id": "7bd43042",
   "metadata": {
    "scrolled": true
   },
   "outputs": [],
   "source": [
    "all_metrics = all_metrics.drop(columns = ['NAME','NAME_y','state','county'])\n",
    "all_metrics"
   ]
  },
  {
   "cell_type": "code",
   "execution_count": null,
   "id": "aa387e8d",
   "metadata": {},
   "outputs": [],
   "source": [
    "all_metrics = all_metrics.rename(columns = {'NAME_x': 'County',\n",
    "                                            'P1_001N':'Population',\n",
    "                                            'SAEMHI_PT':'Median_Income',\n",
    "                                            'SAEPOVRTALL_PT':'Poverty_Rate'})\n",
    "all_metrics"
   ]
  },
  {
   "cell_type": "code",
   "execution_count": null,
   "id": "c461f6c9",
   "metadata": {},
   "outputs": [],
   "source": [
    "all_metrics.to_csv(r'C:\\Users\\jared\\Desktop\\nss\\capstone\\data\\all_metrics.csv')"
   ]
  }
 ],
 "metadata": {
  "kernelspec": {
   "display_name": "Python 3 (ipykernel)",
   "language": "python",
   "name": "python3"
  },
  "language_info": {
   "codemirror_mode": {
    "name": "ipython",
    "version": 3
   },
   "file_extension": ".py",
   "mimetype": "text/x-python",
   "name": "python",
   "nbconvert_exporter": "python",
   "pygments_lexer": "ipython3",
   "version": "3.10.9"
  }
 },
 "nbformat": 4,
 "nbformat_minor": 5
}
