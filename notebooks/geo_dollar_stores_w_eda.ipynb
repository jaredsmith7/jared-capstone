{
 "cells": [
  {
   "cell_type": "code",
   "execution_count": null,
   "id": "37e2264e",
   "metadata": {},
   "outputs": [],
   "source": [
    "from shapely.geometry import Point\n",
    "import pandas as pd\n",
    "import geopandas as gpd\n",
    "import matplotlib.pyplot as plt\n",
    "import numpy as np\n",
    "import requests as re\n",
    "import folium\n",
    "from folium.plugins import MarkerCluster\n",
    "from folium.plugins import FastMarkerCluster"
   ]
  },
  {
   "cell_type": "markdown",
   "id": "ad0c331f",
   "metadata": {},
   "source": [
    "### Reading in TN County shapes"
   ]
  },
  {
   "cell_type": "code",
   "execution_count": null,
   "id": "5e839ac8",
   "metadata": {
    "scrolled": true
   },
   "outputs": [],
   "source": [
    "counties = gpd.read_file(r\"C:\\Users\\jared\\Desktop\\nss\\capstone\\data\\TIGER_Line_2018_Tennessee_Counties.geojson\")\n",
    "counties.head(5)"
   ]
  },
  {
   "cell_type": "markdown",
   "id": "43f22caa",
   "metadata": {},
   "source": [
    "### All dollar stores df"
   ]
  },
  {
   "cell_type": "code",
   "execution_count": null,
   "id": "addf56b3",
   "metadata": {},
   "outputs": [],
   "source": [
    "dollar_stores = pd.read_csv(r'C:\\Users\\jared\\Desktop\\nss\\capstone\\data\\dollar_stores.csv')\n",
    "dollar_stores"
   ]
  },
  {
   "cell_type": "code",
   "execution_count": null,
   "id": "dbef686a",
   "metadata": {},
   "outputs": [],
   "source": [
    "dollar_stores = dollar_stores.drop(columns = ['Unnamed: 0'])\n",
    "dollar_stores"
   ]
  },
  {
   "cell_type": "markdown",
   "id": "c622cef5",
   "metadata": {},
   "source": [
    "### Giving dollar_stores a geometry column and converting to geodataframe"
   ]
  },
  {
   "cell_type": "code",
   "execution_count": null,
   "id": "34bb09f8",
   "metadata": {},
   "outputs": [],
   "source": [
    "dollar_stores['geometry'] = dollar_stores.apply(lambda x: Point((float(x.Longitude), \n",
    "                                                         float(x.Latitude))), \n",
    "                                        axis=1)\n",
    "dollar_stores.head(3)"
   ]
  },
  {
   "cell_type": "code",
   "execution_count": null,
   "id": "a202d276",
   "metadata": {},
   "outputs": [],
   "source": [
    "dollar_stores_geo = gpd.GeoDataFrame(dollar_stores, \n",
    "                           crs = counties.crs, \n",
    "                           geometry = dollar_stores['geometry'])"
   ]
  },
  {
   "cell_type": "code",
   "execution_count": null,
   "id": "ebec71de",
   "metadata": {},
   "outputs": [],
   "source": [
    "type(dollar_stores_geo)"
   ]
  },
  {
   "cell_type": "code",
   "execution_count": null,
   "id": "f9675564",
   "metadata": {},
   "outputs": [],
   "source": [
    "counties = counties[['NAMELSAD','geometry']]\n",
    "counties"
   ]
  },
  {
   "cell_type": "markdown",
   "id": "9a1acf18",
   "metadata": {},
   "source": [
    "### Geospatial join"
   ]
  },
  {
   "cell_type": "code",
   "execution_count": null,
   "id": "168d3f64",
   "metadata": {},
   "outputs": [],
   "source": [
    "dollar_stores_by_county = gpd.sjoin(dollar_stores_geo, counties, op = 'within')"
   ]
  },
  {
   "cell_type": "code",
   "execution_count": null,
   "id": "31aa64a2",
   "metadata": {},
   "outputs": [],
   "source": [
    "dollar_stores_by_county"
   ]
  },
  {
   "cell_type": "markdown",
   "id": "6d728a77",
   "metadata": {},
   "source": [
    "### Count of dollar stores by county"
   ]
  },
  {
   "cell_type": "code",
   "execution_count": null,
   "id": "a678b7eb",
   "metadata": {},
   "outputs": [],
   "source": [
    "count_by_county = dollar_stores_by_county['NAMELSAD'].value_counts()\n",
    "count_by_county"
   ]
  },
  {
   "cell_type": "markdown",
   "id": "6c98e6cd",
   "metadata": {},
   "source": [
    "count_by_county = pd.DataFrame(count_by_county)"
   ]
  },
  {
   "cell_type": "code",
   "execution_count": null,
   "id": "07b4b960",
   "metadata": {},
   "outputs": [],
   "source": [
    "count_by_county.tail(5)"
   ]
  },
  {
   "cell_type": "markdown",
   "id": "53d79482",
   "metadata": {},
   "source": [
    "### Merging count per county column onto dollar stores df"
   ]
  },
  {
   "cell_type": "code",
   "execution_count": null,
   "id": "73be404c",
   "metadata": {},
   "outputs": [],
   "source": [
    "Count_Merge = pd.merge(dollar_stores_by_county, count_by_county,  how='inner', left_on=['NAMELSAD'], right_on = ['NAMELSAD'])\n",
    "Count_Merge"
   ]
  },
  {
   "cell_type": "code",
   "execution_count": null,
   "id": "37247623",
   "metadata": {},
   "outputs": [],
   "source": [
    "Count_Merge = Count_Merge.rename(columns = {'NAMELSAD':'County'})"
   ]
  },
  {
   "cell_type": "code",
   "execution_count": null,
   "id": "1f32e787",
   "metadata": {},
   "outputs": [],
   "source": [
    "Count_Merge"
   ]
  },
  {
   "cell_type": "code",
   "execution_count": null,
   "id": "1f64b53c",
   "metadata": {},
   "outputs": [],
   "source": [
    "Count_Merge['County'] = Count_Merge['County'].replace('DeKalb County','De Kalb County')"
   ]
  },
  {
   "cell_type": "markdown",
   "id": "2634fe26",
   "metadata": {},
   "source": [
    "### Importing, cleaning, and joining metrics to dollar store locations df"
   ]
  },
  {
   "cell_type": "code",
   "execution_count": null,
   "id": "f1e54ae6",
   "metadata": {},
   "outputs": [],
   "source": [
    "obesity = pd.read_csv(r'C:\\Users\\jared\\Desktop\\nss\\capstone\\data\\DiabetesAtlas_CountyData.csv')\n",
    "obesity"
   ]
  },
  {
   "cell_type": "code",
   "execution_count": null,
   "id": "6400a362",
   "metadata": {},
   "outputs": [],
   "source": [
    "obesity = obesity.drop(columns = [\"State\",\"CountyFIPS\",\"Lower Limit\",\" Upper Limit\"])"
   ]
  },
  {
   "cell_type": "code",
   "execution_count": null,
   "id": "98a5b510",
   "metadata": {},
   "outputs": [],
   "source": [
    "obesity['County'] = obesity['County'].replace('Dekalb County','De Kalb County')\n",
    "obesity['County'] = obesity['County'].replace('Mcnairy County','McNairy County')\n",
    "obesity['County'] = obesity['County'].replace('Mcminn County','McMinn County')"
   ]
  },
  {
   "cell_type": "code",
   "execution_count": null,
   "id": "111833cb",
   "metadata": {},
   "outputs": [],
   "source": [
    "obesity"
   ]
  },
  {
   "cell_type": "code",
   "execution_count": null,
   "id": "2202ab00",
   "metadata": {},
   "outputs": [],
   "source": [
    "metrics = pd.read_csv(r'C:\\Users\\jared\\Desktop\\nss\\capstone\\data\\all_metrics.csv')\n",
    "metrics"
   ]
  },
  {
   "cell_type": "code",
   "execution_count": null,
   "id": "26292b09",
   "metadata": {},
   "outputs": [],
   "source": [
    "metrics['County'] = metrics['County'].str.replace(', Tennessee','')\n",
    "metrics"
   ]
  },
  {
   "cell_type": "code",
   "execution_count": null,
   "id": "72432552",
   "metadata": {},
   "outputs": [],
   "source": [
    "metrics = metrics.drop(columns = [\"Unnamed: 0\",\"YEAR\"])"
   ]
  },
  {
   "cell_type": "code",
   "execution_count": null,
   "id": "2a49e4dd",
   "metadata": {},
   "outputs": [],
   "source": [
    "metrics.loc[metrics['County'] == 'DeKalb County']"
   ]
  },
  {
   "cell_type": "code",
   "execution_count": null,
   "id": "ee9c7465",
   "metadata": {},
   "outputs": [],
   "source": [
    "metrics['County'] = metrics['County'].replace('DeKalb County','De Kalb County')"
   ]
  },
  {
   "cell_type": "code",
   "execution_count": null,
   "id": "cb84e1db",
   "metadata": {},
   "outputs": [],
   "source": [
    "metrics.loc[metrics['County'] == 'De Kalb County']"
   ]
  },
  {
   "cell_type": "code",
   "execution_count": null,
   "id": "e585f324",
   "metadata": {},
   "outputs": [],
   "source": [
    "metrics"
   ]
  },
  {
   "cell_type": "code",
   "execution_count": null,
   "id": "1a3c0787",
   "metadata": {},
   "outputs": [],
   "source": [
    "Food_Insecurity = pd.read_csv(r\"C:\\Users\\jared\\Desktop\\nss\\capstone\\data\\food insecurity.csv\")\n"
   ]
  },
  {
   "cell_type": "code",
   "execution_count": null,
   "id": "58c99264",
   "metadata": {},
   "outputs": [],
   "source": [
    "Food_Insecurity = Food_Insecurity.drop(columns = ['# Food Insecure','# Limited Access to Healthy Foods','% Limited Access to Healthy Foods'])"
   ]
  },
  {
   "cell_type": "code",
   "execution_count": null,
   "id": "5b4a031d",
   "metadata": {},
   "outputs": [],
   "source": [
    "Food_Insecurity"
   ]
  },
  {
   "cell_type": "markdown",
   "id": "4bd41e36",
   "metadata": {},
   "source": [
    "### Merging clean metrics onto dollar store locations df"
   ]
  },
  {
   "cell_type": "code",
   "execution_count": null,
   "id": "1699c73f",
   "metadata": {},
   "outputs": [],
   "source": [
    "Count_Merge = pd.merge(Count_Merge, metrics,  how='left', left_on=['County'], right_on = ['County'])\n",
    "Count_Merge"
   ]
  },
  {
   "cell_type": "code",
   "execution_count": null,
   "id": "05ba5ac9",
   "metadata": {},
   "outputs": [],
   "source": [
    "Count_Merge = pd.merge(Count_Merge, obesity,  how='left', left_on=['County'], right_on = ['County'])\n",
    "Count_Merge"
   ]
  },
  {
   "cell_type": "code",
   "execution_count": null,
   "id": "ddd3982a",
   "metadata": {},
   "outputs": [],
   "source": [
    "Count_Merge = pd.merge(Count_Merge, Food_Insecurity,  how='left', left_on=['County'], right_on = ['County'])\n",
    "Count_Merge"
   ]
  },
  {
   "cell_type": "code",
   "execution_count": null,
   "id": "d6c4c2e6",
   "metadata": {},
   "outputs": [],
   "source": [
    "Count_Merge = Count_Merge.drop(columns = [\"index_right\"])"
   ]
  },
  {
   "cell_type": "code",
   "execution_count": null,
   "id": "5dc3ad2d",
   "metadata": {},
   "outputs": [],
   "source": [
    "Count_Merge = Count_Merge.rename(columns = {'count':'County_Store_Count', 'Median_Income':'hh_med_inc','Percentage':'Obesity_Rate'})"
   ]
  },
  {
   "cell_type": "code",
   "execution_count": null,
   "id": "00eddfa5",
   "metadata": {},
   "outputs": [],
   "source": [
    "Count_Merge['Stores_Per_Capita'] = Count_Merge['County_Store_Count'] / Count_Merge['Population']\n",
    "Count_Merge.sort_values(by = 'Stores_Per_Capita', ascending = False)"
   ]
  },
  {
   "cell_type": "code",
   "execution_count": null,
   "id": "f11b0166",
   "metadata": {
    "scrolled": true
   },
   "outputs": [],
   "source": [
    "Count_Merge['Stores_Per_10k'] = Count_Merge['Stores_Per_Capita'] * 10000\n",
    "Count_Merge.sort_values(by = \"Stores_Per_10k\", ascending = False)"
   ]
  },
  {
   "cell_type": "markdown",
   "id": "f54cdd0d",
   "metadata": {},
   "source": [
    "## Exploratory Data Analysis"
   ]
  },
  {
   "cell_type": "code",
   "execution_count": null,
   "id": "2be36dde",
   "metadata": {},
   "outputs": [],
   "source": [
    "count_by_county = count_by_county.reset_index()"
   ]
  },
  {
   "cell_type": "code",
   "execution_count": null,
   "id": "151303d8",
   "metadata": {},
   "outputs": [],
   "source": [
    "count_by_county = count_by_county.rename(columns = {'NAMELSAD':'County','count':'Dollar Stores'})"
   ]
  },
  {
   "cell_type": "code",
   "execution_count": null,
   "id": "cb1e3c11",
   "metadata": {},
   "outputs": [],
   "source": [
    "count_by_county_w_metrics = pd.merge(count_by_county, metrics,  how='inner', left_on=['County'], right_on = ['County'])"
   ]
  },
  {
   "cell_type": "code",
   "execution_count": null,
   "id": "b9f9377e",
   "metadata": {},
   "outputs": [],
   "source": [
    "count_by_county_w_metrics"
   ]
  },
  {
   "cell_type": "code",
   "execution_count": null,
   "id": "97be9e72",
   "metadata": {},
   "outputs": [],
   "source": [
    "count_by_county_w_metrics = pd.merge(count_by_county_w_metrics, obesity,  how='left', left_on=['County'], right_on = ['County'])"
   ]
  },
  {
   "cell_type": "code",
   "execution_count": null,
   "id": "5f25e1ad",
   "metadata": {},
   "outputs": [],
   "source": [
    "count_by_county_w_metrics = pd.merge(count_by_county_w_metrics, Food_Insecurity,  how='left', left_on=['County'], right_on = ['County'])"
   ]
  },
  {
   "cell_type": "code",
   "execution_count": null,
   "id": "89acfbd3",
   "metadata": {},
   "outputs": [],
   "source": [
    "count_by_county_w_metrics"
   ]
  },
  {
   "cell_type": "code",
   "execution_count": null,
   "id": "e2d37b7e",
   "metadata": {},
   "outputs": [],
   "source": [
    "one_metric = Count_Merge[['County','Stores_Per_10k']]\n",
    "one_metric"
   ]
  },
  {
   "cell_type": "code",
   "execution_count": null,
   "id": "982578d5",
   "metadata": {},
   "outputs": [],
   "source": [
    "one_metric = one_metric.groupby(one_metric['County']).mean()\n",
    "one_metric"
   ]
  },
  {
   "cell_type": "markdown",
   "id": "ab27edae",
   "metadata": {},
   "source": [
    "### Count of dollar stores by County w all metrics"
   ]
  },
  {
   "cell_type": "code",
   "execution_count": null,
   "id": "ddfdcafb",
   "metadata": {},
   "outputs": [],
   "source": [
    "count_by_county_w_metrics = pd.merge(count_by_county_w_metrics, one_metric,  how='left', left_on=['County'], right_on = ['County'])\n",
    "count_by_county_w_metrics"
   ]
  },
  {
   "cell_type": "code",
   "execution_count": null,
   "id": "2b3edcf5",
   "metadata": {},
   "outputs": [],
   "source": [
    "count_by_county_w_metrics = count_by_county_w_metrics.rename(columns = {'Median_Income':'hh_med_inc','Percentage':'Obesity_Rate'})"
   ]
  },
  {
   "cell_type": "markdown",
   "id": "beb6cd12",
   "metadata": {},
   "source": [
    "### Top 5 counties with most dollar stores, correlated to population"
   ]
  },
  {
   "cell_type": "code",
   "execution_count": null,
   "id": "6ae169d4",
   "metadata": {},
   "outputs": [],
   "source": [
    "count_by_county_w_metrics.sort_values(by = \"Dollar Stores\", ascending = False).head(5)"
   ]
  },
  {
   "cell_type": "markdown",
   "id": "7f9e8fba",
   "metadata": {},
   "source": [
    "### Top 5 counties with most dollar stores relative to population"
   ]
  },
  {
   "cell_type": "code",
   "execution_count": null,
   "id": "0d035032",
   "metadata": {},
   "outputs": [],
   "source": [
    "count_by_county_w_metrics.sort_values(by = \"Stores_Per_10k\", ascending = False).head(5)"
   ]
  },
  {
   "cell_type": "code",
   "execution_count": null,
   "id": "9dae7a6e",
   "metadata": {},
   "outputs": [],
   "source": [
    "count_by_county_w_metrics.sort_values(by = \"Stores_Per_10k\", ascending = False).tail(5)"
   ]
  },
  {
   "cell_type": "code",
   "execution_count": null,
   "id": "78f87f24",
   "metadata": {},
   "outputs": [],
   "source": [
    "metrics_corr = count_by_county_w_metrics.drop(columns =['County']).corr()"
   ]
  },
  {
   "cell_type": "code",
   "execution_count": null,
   "id": "0510cda9",
   "metadata": {},
   "outputs": [],
   "source": [
    "metrics_corr"
   ]
  },
  {
   "cell_type": "markdown",
   "id": "5d86f511",
   "metadata": {},
   "source": [
    "### Brands"
   ]
  },
  {
   "cell_type": "code",
   "execution_count": null,
   "id": "d49f6dca",
   "metadata": {},
   "outputs": [],
   "source": [
    "Count_Merge['store'].value_counts().plot(kind = 'bar',\n",
    "                                        figsize = (10,6))                         \n",
    "\n",
    "plt.xticks(rotation = 0,                                                \n",
    "           fontsize = 12)                   \n",
    "plt.title('Number of Dollar Stores by Brand',                              \n",
    "         fontsize = 14,\n",
    "         fontweight = 'bold');"
   ]
  },
  {
   "cell_type": "code",
   "execution_count": null,
   "id": "ec271368",
   "metadata": {},
   "outputs": [],
   "source": [
    "ct = pd.crosstab(Count_Merge['County'], Count_Merge['store'])\n",
    "ct.reset_index()"
   ]
  },
  {
   "cell_type": "markdown",
   "id": "261c7a2c",
   "metadata": {},
   "source": [
    "### .526 correlation between Food Insecurity and Stores per 10,000 people"
   ]
  },
  {
   "cell_type": "code",
   "execution_count": null,
   "id": "dba171c0",
   "metadata": {},
   "outputs": [],
   "source": [
    "plt.scatter(data = count_by_county_w_metrics, x = '% Food Insecure', y = 'Stores_Per_10k')\n",
    "plt.xlabel('% Food Insecure')\n",
    "plt.ylabel('Stores_Per_10k')"
   ]
  },
  {
   "cell_type": "markdown",
   "id": "346a8522",
   "metadata": {},
   "source": [
    "### -0.553 correlation between household median income and Stores per 10,000 people"
   ]
  },
  {
   "cell_type": "code",
   "execution_count": null,
   "id": "144d82ad",
   "metadata": {},
   "outputs": [],
   "source": [
    "plt.scatter(data = count_by_county_w_metrics, x = 'hh_med_inc', y = 'Stores_Per_10k')\n",
    "plt.xlabel('hh_med_inc')\n",
    "plt.ylabel('Stores_Per_10k')"
   ]
  },
  {
   "cell_type": "markdown",
   "id": "755c0bd3",
   "metadata": {},
   "source": [
    "### -0.229 correlation between Obesity Rate and Stores per 10,000 people"
   ]
  },
  {
   "cell_type": "code",
   "execution_count": null,
   "id": "be367767",
   "metadata": {},
   "outputs": [],
   "source": [
    "plt.scatter(data = count_by_county_w_metrics, x = 'Obesity_Rate', y = 'Stores_Per_10k')\n",
    "plt.xlabel('Obesity_Rate')\n",
    "plt.ylabel('Stores_Per_10k')"
   ]
  },
  {
   "cell_type": "markdown",
   "id": "0e8a5db7",
   "metadata": {},
   "source": [
    "### 0.413 correlation between Poverty Rate and Stores per 10,000 people"
   ]
  },
  {
   "cell_type": "code",
   "execution_count": null,
   "id": "788ce887",
   "metadata": {},
   "outputs": [],
   "source": [
    "plt.scatter(data = count_by_county_w_metrics, x = 'Poverty_Rate', y = 'Stores_Per_10k')\n",
    "plt.xlabel('Poverty_Rate')\n",
    "plt.ylabel('Stores_Per_10k')"
   ]
  },
  {
   "cell_type": "markdown",
   "id": "aebc57b6",
   "metadata": {},
   "source": [
    "### More EDA"
   ]
  },
  {
   "cell_type": "code",
   "execution_count": null,
   "id": "ba831553",
   "metadata": {},
   "outputs": [],
   "source": [
    "Count_Merge.loc[Count_Merge['County'] == 'McMinn County']"
   ]
  },
  {
   "cell_type": "code",
   "execution_count": null,
   "id": "3c12ada6",
   "metadata": {},
   "outputs": [],
   "source": [
    "#Count_Merge.to_csv(r'C:\\Users\\jared\\Desktop\\nss\\capstone\\data\\dollar_stores_geo_2.csv', index=False)"
   ]
  },
  {
   "cell_type": "code",
   "execution_count": null,
   "id": "54f08a8e",
   "metadata": {},
   "outputs": [],
   "source": [
    "#count_by_county_w_metrics.to_csv(r'C:\\Users\\jared\\Desktop\\nss\\capstone\\data\\count_by_county_geo_2.csv', index=False)"
   ]
  },
  {
   "cell_type": "code",
   "execution_count": null,
   "id": "64508541",
   "metadata": {},
   "outputs": [],
   "source": [
    "Count_Merge"
   ]
  },
  {
   "cell_type": "code",
   "execution_count": null,
   "id": "6116fcdc",
   "metadata": {},
   "outputs": [],
   "source": [
    "ct"
   ]
  },
  {
   "cell_type": "code",
   "execution_count": null,
   "id": "d7a26b8f",
   "metadata": {},
   "outputs": [],
   "source": [
    "ct['Highest_Store_Count'] = ct.idxmax(axis=1)\n",
    "ct"
   ]
  },
  {
   "cell_type": "code",
   "execution_count": null,
   "id": "d539ba86",
   "metadata": {},
   "outputs": [],
   "source": [
    "maxes = pd.merge(Count_Merge, ct,  how='left', left_on=['County'], right_on = ['County'])\n",
    "maxes"
   ]
  },
  {
   "cell_type": "code",
   "execution_count": null,
   "id": "6c2c96d9",
   "metadata": {},
   "outputs": [],
   "source": [
    "#maxes.to_csv(r'C:\\Users\\jared\\Desktop\\nss\\capstone\\data\\maxes.csv', index=False)"
   ]
  },
  {
   "cell_type": "code",
   "execution_count": null,
   "id": "a73c4ac1",
   "metadata": {},
   "outputs": [],
   "source": []
  }
 ],
 "metadata": {
  "kernelspec": {
   "display_name": "Python 3 (ipykernel)",
   "language": "python",
   "name": "python3"
  },
  "language_info": {
   "codemirror_mode": {
    "name": "ipython",
    "version": 3
   },
   "file_extension": ".py",
   "mimetype": "text/x-python",
   "name": "python",
   "nbconvert_exporter": "python",
   "pygments_lexer": "ipython3",
   "version": "3.10.12"
  }
 },
 "nbformat": 4,
 "nbformat_minor": 5
}
