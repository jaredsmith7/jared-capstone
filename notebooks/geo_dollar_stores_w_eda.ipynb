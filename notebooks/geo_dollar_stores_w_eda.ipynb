{
 "cells": [
  {
   "cell_type": "code",
   "execution_count": null,
   "id": "ab00f23e",
   "metadata": {},
   "outputs": [],
   "source": [
    "from shapely.geometry import Point\n",
    "import pandas as pd\n",
    "import geopandas as gpd\n",
    "import matplotlib.pyplot as plt\n",
    "import numpy as np\n",
    "import requests as re\n",
    "import folium\n",
    "from folium.plugins import MarkerCluster\n",
    "from folium.plugins import FastMarkerCluster"
   ]
  },
  {
   "cell_type": "markdown",
   "id": "58ea320f",
   "metadata": {},
   "source": [
    "### Reading in TN County shapes"
   ]
  },
  {
   "cell_type": "code",
   "execution_count": null,
   "id": "bdbf2d63",
   "metadata": {
    "scrolled": true
   },
   "outputs": [],
   "source": [
    "counties = gpd.read_file(r\"C:\\Users\\jared\\Desktop\\nss\\capstone\\data\\TIGER_Line_2018_Tennessee_Counties.geojson\")\n",
    "counties.head(5)"
   ]
  },
  {
   "cell_type": "markdown",
   "id": "94a7c28f",
   "metadata": {},
   "source": [
    "### All dollar stores df"
   ]
  },
  {
   "cell_type": "code",
   "execution_count": null,
   "id": "d493ebdf",
   "metadata": {},
   "outputs": [],
   "source": [
    "dollar_stores = pd.read_csv(r'C:\\Users\\jared\\Desktop\\nss\\capstone\\data\\dollar_stores.csv')\n",
    "dollar_stores"
   ]
  },
  {
   "cell_type": "code",
   "execution_count": null,
   "id": "66fb1d30",
   "metadata": {},
   "outputs": [],
   "source": [
    "dollar_stores = dollar_stores.drop(columns = ['Unnamed: 0'])\n",
    "dollar_stores"
   ]
  },
  {
   "cell_type": "markdown",
   "id": "bddb0441",
   "metadata": {},
   "source": [
    "### Giving dollar_stores a geometry column and converting to geodataframe"
   ]
  },
  {
   "cell_type": "code",
   "execution_count": null,
   "id": "6b5ce19d",
   "metadata": {},
   "outputs": [],
   "source": [
    "dollar_stores['geometry'] = dollar_stores.apply(lambda x: Point((float(x.Longitude), \n",
    "                                                         float(x.Latitude))), \n",
    "                                        axis=1)\n",
    "dollar_stores.head(3)"
   ]
  },
  {
   "cell_type": "code",
   "execution_count": null,
   "id": "2f65a507",
   "metadata": {},
   "outputs": [],
   "source": [
    "dollar_stores_geo = gpd.GeoDataFrame(dollar_stores, \n",
    "                           crs = counties.crs, \n",
    "                           geometry = dollar_stores['geometry'])"
   ]
  },
  {
   "cell_type": "code",
   "execution_count": null,
   "id": "9283adf7",
   "metadata": {},
   "outputs": [],
   "source": [
    "type(dollar_stores_geo)"
   ]
  },
  {
   "cell_type": "code",
   "execution_count": null,
   "id": "b72eaea3",
   "metadata": {},
   "outputs": [],
   "source": [
    "counties = counties[['NAMELSAD','geometry']]\n",
    "counties"
   ]
  },
  {
   "cell_type": "markdown",
   "id": "22161e41",
   "metadata": {},
   "source": [
    "### Geospatial join"
   ]
  },
  {
   "cell_type": "code",
   "execution_count": null,
   "id": "8b457236",
   "metadata": {},
   "outputs": [],
   "source": [
    "dollar_stores_by_county = gpd.sjoin(dollar_stores_geo, counties, op = 'within')"
   ]
  },
  {
   "cell_type": "code",
   "execution_count": null,
   "id": "3cfcaa47",
   "metadata": {},
   "outputs": [],
   "source": [
    "dollar_stores_by_county"
   ]
  },
  {
   "cell_type": "markdown",
   "id": "71bd0bf2",
   "metadata": {},
   "source": [
    "### Count of dollar stores by county"
   ]
  },
  {
   "cell_type": "code",
   "execution_count": null,
   "id": "5ad3da5a",
   "metadata": {},
   "outputs": [],
   "source": [
    "count_by_county = dollar_stores_by_county['NAMELSAD'].value_counts()\n",
    "count_by_county"
   ]
  },
  {
   "cell_type": "markdown",
   "id": "d6cadd19",
   "metadata": {},
   "source": [
    "count_by_county = pd.DataFrame(count_by_county)"
   ]
  },
  {
   "cell_type": "code",
   "execution_count": null,
   "id": "b1b1d129",
   "metadata": {},
   "outputs": [],
   "source": [
    "count_by_county.tail(5)"
   ]
  },
  {
   "cell_type": "markdown",
   "id": "5acb4cc9",
   "metadata": {},
   "source": [
    "### Merging count per county column onto dollar stores df"
   ]
  },
  {
   "cell_type": "code",
   "execution_count": null,
   "id": "d34b1370",
   "metadata": {},
   "outputs": [],
   "source": [
    "Count_Merge = pd.merge(dollar_stores_by_county, count_by_county,  how='inner', left_on=['NAMELSAD'], right_on = ['NAMELSAD'])\n",
    "Count_Merge"
   ]
  },
  {
   "cell_type": "code",
   "execution_count": null,
   "id": "47d70b07",
   "metadata": {},
   "outputs": [],
   "source": [
    "Count_Merge = Count_Merge.rename(columns = {'NAMELSAD':'County'})"
   ]
  },
  {
   "cell_type": "code",
   "execution_count": null,
   "id": "68152300",
   "metadata": {},
   "outputs": [],
   "source": [
    "Count_Merge"
   ]
  },
  {
   "cell_type": "code",
   "execution_count": null,
   "id": "842f2e48",
   "metadata": {},
   "outputs": [],
   "source": [
    "Count_Merge['County'] = Count_Merge['County'].replace('DeKalb County','De Kalb County')"
   ]
  },
  {
   "cell_type": "markdown",
   "id": "7487cfa5",
   "metadata": {},
   "source": [
    "### Importing, cleaning, and joining metrics to dollar store locations df"
   ]
  },
  {
   "cell_type": "code",
   "execution_count": null,
   "id": "d3556c62",
   "metadata": {},
   "outputs": [],
   "source": [
    "obesity = pd.read_csv(r'C:\\Users\\jared\\Desktop\\nss\\capstone\\data\\DiabetesAtlas_CountyData.csv')\n",
    "obesity"
   ]
  },
  {
   "cell_type": "code",
   "execution_count": null,
   "id": "223d526a",
   "metadata": {},
   "outputs": [],
   "source": [
    "obesity = obesity.drop(columns = [\"State\",\"CountyFIPS\",\"Lower Limit\",\" Upper Limit\"])"
   ]
  },
  {
   "cell_type": "code",
   "execution_count": null,
   "id": "3a17c763",
   "metadata": {},
   "outputs": [],
   "source": [
    "obesity['County'] = obesity['County'].replace('Dekalb County','De Kalb County')\n",
    "obesity['County'] = obesity['County'].replace('Mcnairy County','McNairy County')"
   ]
  },
  {
   "cell_type": "code",
   "execution_count": null,
   "id": "ace2967f",
   "metadata": {},
   "outputs": [],
   "source": [
    "obesity"
   ]
  },
  {
   "cell_type": "code",
   "execution_count": null,
   "id": "30173fe5",
   "metadata": {},
   "outputs": [],
   "source": [
    "metrics = pd.read_csv(r'C:\\Users\\jared\\Desktop\\nss\\capstone\\data\\all_metrics.csv')\n",
    "metrics"
   ]
  },
  {
   "cell_type": "code",
   "execution_count": null,
   "id": "7bc17c72",
   "metadata": {},
   "outputs": [],
   "source": [
    "metrics['County'] = metrics['County'].str.replace(', Tennessee','')\n",
    "metrics"
   ]
  },
  {
   "cell_type": "code",
   "execution_count": null,
   "id": "926cff5f",
   "metadata": {},
   "outputs": [],
   "source": [
    "metrics = metrics.drop(columns = [\"Unnamed: 0\",\"YEAR\"])"
   ]
  },
  {
   "cell_type": "code",
   "execution_count": null,
   "id": "92bd953d",
   "metadata": {},
   "outputs": [],
   "source": [
    "metrics.loc[metrics['County'] == 'DeKalb County']"
   ]
  },
  {
   "cell_type": "code",
   "execution_count": null,
   "id": "4f9cce7e",
   "metadata": {},
   "outputs": [],
   "source": [
    "metrics['County'] = metrics['County'].replace('DeKalb County','De Kalb County')"
   ]
  },
  {
   "cell_type": "code",
   "execution_count": null,
   "id": "b27d966f",
   "metadata": {},
   "outputs": [],
   "source": [
    "metrics.loc[metrics['County'] == 'De Kalb County']"
   ]
  },
  {
   "cell_type": "code",
   "execution_count": null,
   "id": "af52e2de",
   "metadata": {},
   "outputs": [],
   "source": [
    "metrics"
   ]
  },
  {
   "cell_type": "code",
   "execution_count": null,
   "id": "4abb4476",
   "metadata": {},
   "outputs": [],
   "source": [
    "Food_Insecurity = pd.read_csv(r\"C:\\Users\\jared\\Desktop\\nss\\capstone\\data\\food insecurity.csv\")\n"
   ]
  },
  {
   "cell_type": "code",
   "execution_count": null,
   "id": "067dee93",
   "metadata": {},
   "outputs": [],
   "source": [
    "Food_Insecurity = Food_Insecurity.drop(columns = ['# Food Insecure','# Limited Access to Healthy Foods','% Limited Access to Healthy Foods'])"
   ]
  },
  {
   "cell_type": "code",
   "execution_count": null,
   "id": "eb807472",
   "metadata": {},
   "outputs": [],
   "source": [
    "Food_Insecurity"
   ]
  },
  {
   "cell_type": "markdown",
   "id": "24d160f8",
   "metadata": {},
   "source": [
    "### Merging clean metrics onto dollar store locations df"
   ]
  },
  {
   "cell_type": "code",
   "execution_count": null,
   "id": "380aaebd",
   "metadata": {},
   "outputs": [],
   "source": [
    "Count_Merge = pd.merge(Count_Merge, metrics,  how='left', left_on=['County'], right_on = ['County'])\n",
    "Count_Merge"
   ]
  },
  {
   "cell_type": "code",
   "execution_count": null,
   "id": "13d5605a",
   "metadata": {},
   "outputs": [],
   "source": [
    "Count_Merge = pd.merge(Count_Merge, obesity,  how='left', left_on=['County'], right_on = ['County'])\n",
    "Count_Merge"
   ]
  },
  {
   "cell_type": "code",
   "execution_count": null,
   "id": "1a620647",
   "metadata": {},
   "outputs": [],
   "source": [
    "Count_Merge = pd.merge(Count_Merge, Food_Insecurity,  how='left', left_on=['County'], right_on = ['County'])\n",
    "Count_Merge"
   ]
  },
  {
   "cell_type": "code",
   "execution_count": null,
   "id": "4b2ca140",
   "metadata": {},
   "outputs": [],
   "source": [
    "Count_Merge = Count_Merge.drop(columns = [\"index_right\"])"
   ]
  },
  {
   "cell_type": "code",
   "execution_count": null,
   "id": "361d49d6",
   "metadata": {},
   "outputs": [],
   "source": [
    "Count_Merge = Count_Merge.rename(columns = {'count':'County_Store_Count', 'Median_Income':'hh_med_inc','Percentage':'Obesity_Rate'})"
   ]
  },
  {
   "cell_type": "code",
   "execution_count": null,
   "id": "bb325848",
   "metadata": {},
   "outputs": [],
   "source": [
    "Count_Merge['Stores_Per_Capita'] = Count_Merge['County_Store_Count'] / Count_Merge['Population']\n",
    "Count_Merge.sort_values(by = 'Stores_Per_Capita', ascending = False)"
   ]
  },
  {
   "cell_type": "code",
   "execution_count": null,
   "id": "aa2be442",
   "metadata": {},
   "outputs": [],
   "source": [
    "Count_Merge['Stores_Per_10k'] = Count_Merge['Stores_Per_Capita'] * 10000\n",
    "Count_Merge.sort_values(by = \"Stores_Per_10k\", ascending = False)"
   ]
  },
  {
   "cell_type": "markdown",
   "id": "46346998",
   "metadata": {},
   "source": [
    "## Exploratory Data Analysis"
   ]
  },
  {
   "cell_type": "code",
   "execution_count": null,
   "id": "bda464e7",
   "metadata": {},
   "outputs": [],
   "source": [
    "count_by_county = count_by_county.reset_index()"
   ]
  },
  {
   "cell_type": "code",
   "execution_count": null,
   "id": "fd0b913a",
   "metadata": {},
   "outputs": [],
   "source": [
    "count_by_county = count_by_county.rename(columns = {'NAMELSAD':'County','count':'Dollar Stores'})"
   ]
  },
  {
   "cell_type": "code",
   "execution_count": null,
   "id": "33b60c23",
   "metadata": {},
   "outputs": [],
   "source": [
    "count_by_county_w_metrics = pd.merge(count_by_county, metrics,  how='inner', left_on=['County'], right_on = ['County'])"
   ]
  },
  {
   "cell_type": "code",
   "execution_count": null,
   "id": "39fcca01",
   "metadata": {},
   "outputs": [],
   "source": [
    "count_by_county_w_metrics"
   ]
  },
  {
   "cell_type": "code",
   "execution_count": null,
   "id": "546481d8",
   "metadata": {},
   "outputs": [],
   "source": [
    "count_by_county_w_metrics = pd.merge(count_by_county_w_metrics, obesity,  how='left', left_on=['County'], right_on = ['County'])"
   ]
  },
  {
   "cell_type": "code",
   "execution_count": null,
   "id": "c05f12db",
   "metadata": {},
   "outputs": [],
   "source": [
    "count_by_county_w_metrics = pd.merge(count_by_county_w_metrics, Food_Insecurity,  how='left', left_on=['County'], right_on = ['County'])"
   ]
  },
  {
   "cell_type": "code",
   "execution_count": null,
   "id": "04921e2d",
   "metadata": {},
   "outputs": [],
   "source": [
    "count_by_county_w_metrics"
   ]
  },
  {
   "cell_type": "code",
   "execution_count": null,
   "id": "94e0d6ca",
   "metadata": {},
   "outputs": [],
   "source": [
    "one_metric = Count_Merge[['County','Stores_Per_10k']]\n",
    "one_metric"
   ]
  },
  {
   "cell_type": "code",
   "execution_count": null,
   "id": "ac181280",
   "metadata": {},
   "outputs": [],
   "source": [
    "one_metric = one_metric.groupby(one_metric['County']).mean()\n",
    "one_metric"
   ]
  },
  {
   "cell_type": "markdown",
   "id": "a88cf4ac",
   "metadata": {},
   "source": [
    "### Count of dollar stores by County w all metrics"
   ]
  },
  {
   "cell_type": "code",
   "execution_count": null,
   "id": "438ba8cf",
   "metadata": {},
   "outputs": [],
   "source": [
    "count_by_county_w_metrics = pd.merge(count_by_county_w_metrics, one_metric,  how='left', left_on=['County'], right_on = ['County'])\n",
    "count_by_county_w_metrics"
   ]
  },
  {
   "cell_type": "code",
   "execution_count": null,
   "id": "4f15aed0",
   "metadata": {},
   "outputs": [],
   "source": [
    "count_by_county_w_metrics = count_by_county_w_metrics.rename(columns = {'Median_Income':'hh_med_inc','Percentage':'Obesity_Rate'})"
   ]
  },
  {
   "cell_type": "markdown",
   "id": "4f2e123b",
   "metadata": {},
   "source": [
    "### Top 5 counties with most dollar stores, correlated to population"
   ]
  },
  {
   "cell_type": "code",
   "execution_count": null,
   "id": "eda84b76",
   "metadata": {},
   "outputs": [],
   "source": [
    "count_by_county_w_metrics.sort_values(by = \"Dollar Stores\", ascending = False).head(5)"
   ]
  },
  {
   "cell_type": "markdown",
   "id": "dca2900c",
   "metadata": {},
   "source": [
    "### Top 5 counties with most dollar stores relative to population"
   ]
  },
  {
   "cell_type": "code",
   "execution_count": null,
   "id": "26390053",
   "metadata": {},
   "outputs": [],
   "source": [
    "count_by_county_w_metrics.sort_values(by = \"Stores_Per_10k\", ascending = False).head(5)"
   ]
  },
  {
   "cell_type": "code",
   "execution_count": null,
   "id": "daba6d08",
   "metadata": {},
   "outputs": [],
   "source": [
    "count_by_county_w_metrics.sort_values(by = \"Stores_Per_10k\", ascending = False).tail(5)"
   ]
  },
  {
   "cell_type": "code",
   "execution_count": null,
   "id": "3c1d7d73",
   "metadata": {},
   "outputs": [],
   "source": [
    "metrics_corr = count_by_county_w_metrics.drop(columns =['County']).corr()"
   ]
  },
  {
   "cell_type": "code",
   "execution_count": null,
   "id": "3890e741",
   "metadata": {},
   "outputs": [],
   "source": [
    "metrics_corr"
   ]
  },
  {
   "cell_type": "markdown",
   "id": "090a303d",
   "metadata": {},
   "source": [
    "### Brands"
   ]
  },
  {
   "cell_type": "code",
   "execution_count": null,
   "id": "12a7ddfa",
   "metadata": {},
   "outputs": [],
   "source": [
    "Count_Merge['store'].value_counts().plot(kind = 'bar',\n",
    "                                        figsize = (10,6))                         \n",
    "\n",
    "plt.xticks(rotation = 0,                                                \n",
    "           fontsize = 12)                   \n",
    "plt.title('Number of Dollar Stores by Brand',                              \n",
    "         fontsize = 14,\n",
    "         fontweight = 'bold');"
   ]
  },
  {
   "cell_type": "code",
   "execution_count": null,
   "id": "d63e3405",
   "metadata": {},
   "outputs": [],
   "source": [
    "pd.crosstab(Count_Merge['County'], Count_Merge['store']).tail(50)"
   ]
  },
  {
   "cell_type": "markdown",
   "id": "af743de9",
   "metadata": {},
   "source": [
    "### .526 correlation between Food Insecurity and Stores per 10,000 people"
   ]
  },
  {
   "cell_type": "code",
   "execution_count": null,
   "id": "b472b602",
   "metadata": {},
   "outputs": [],
   "source": [
    "plt.scatter(data = count_by_county_w_metrics, x = '% Food Insecure', y = 'Stores_Per_10k')\n",
    "plt.xlabel('% Food Insecure')\n",
    "plt.ylabel('Stores_Per_10k')"
   ]
  },
  {
   "cell_type": "markdown",
   "id": "10b5323d",
   "metadata": {},
   "source": [
    "### -0.553 correlation between household median income and Stores per 10,000 people"
   ]
  },
  {
   "cell_type": "code",
   "execution_count": null,
   "id": "c0c9cc20",
   "metadata": {},
   "outputs": [],
   "source": [
    "plt.scatter(data = count_by_county_w_metrics, x = 'hh_med_inc', y = 'Stores_Per_10k')\n",
    "plt.xlabel('hh_med_inc')\n",
    "plt.ylabel('Stores_Per_10k')"
   ]
  },
  {
   "cell_type": "markdown",
   "id": "11536a23",
   "metadata": {},
   "source": [
    "### -0.229 correlation between Obesity Rate and Stores per 10,000 people"
   ]
  },
  {
   "cell_type": "code",
   "execution_count": null,
   "id": "1084f5fb",
   "metadata": {},
   "outputs": [],
   "source": [
    "plt.scatter(data = count_by_county_w_metrics, x = 'Obesity_Rate', y = 'Stores_Per_10k')\n",
    "plt.xlabel('Obesity_Rate')\n",
    "plt.ylabel('Stores_Per_10k')"
   ]
  },
  {
   "cell_type": "markdown",
   "id": "83f9ce94",
   "metadata": {},
   "source": [
    "### 0.413 correlation between Poverty Rate and Stores per 10,000 people"
   ]
  },
  {
   "cell_type": "code",
   "execution_count": null,
   "id": "e44405eb",
   "metadata": {},
   "outputs": [],
   "source": [
    "plt.scatter(data = count_by_county_w_metrics, x = 'Poverty_Rate', y = 'Stores_Per_10k')\n",
    "plt.xlabel('Poverty_Rate')\n",
    "plt.ylabel('Stores_Per_10k')"
   ]
  },
  {
   "cell_type": "code",
   "execution_count": null,
   "id": "5eaea414",
   "metadata": {},
   "outputs": [],
   "source": []
  }
 ],
 "metadata": {
  "kernelspec": {
   "display_name": "Python 3 (ipykernel)",
   "language": "python",
   "name": "python3"
  },
  "language_info": {
   "codemirror_mode": {
    "name": "ipython",
    "version": 3
   },
   "file_extension": ".py",
   "mimetype": "text/x-python",
   "name": "python",
   "nbconvert_exporter": "python",
   "pygments_lexer": "ipython3",
   "version": "3.10.12"
  }
 },
 "nbformat": 4,
 "nbformat_minor": 5
}
