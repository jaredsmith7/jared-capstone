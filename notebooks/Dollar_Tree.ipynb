{
 "cells": [
  {
   "cell_type": "code",
   "execution_count": null,
   "id": "ab53e5a1",
   "metadata": {},
   "outputs": [],
   "source": [
    "import pandas as pd\n",
    "import matplotlib.pyplot as plt\n",
    "import seaborn as sns\n",
    "import requests as re\n",
    "import json"
   ]
  },
  {
   "cell_type": "code",
   "execution_count": null,
   "id": "da475531",
   "metadata": {},
   "outputs": [],
   "source": [
    "DT = pd.read_csv(r\"C:\\Users\\jared\\Desktop\\nss\\capstone\\data\\Dollar Tree.csv\")"
   ]
  },
  {
   "cell_type": "code",
   "execution_count": null,
   "id": "ac0b10de",
   "metadata": {},
   "outputs": [],
   "source": [
    "DT"
   ]
  },
  {
   "cell_type": "code",
   "execution_count": null,
   "id": "90810573",
   "metadata": {},
   "outputs": [],
   "source": [
    "DT_split = DT['Street_Address'].str.split(',', expand = True)"
   ]
  },
  {
   "cell_type": "code",
   "execution_count": null,
   "id": "47489dc8",
   "metadata": {},
   "outputs": [],
   "source": [
    "type(DT_split)"
   ]
  },
  {
   "cell_type": "code",
   "execution_count": null,
   "id": "e5dddc75",
   "metadata": {},
   "outputs": [],
   "source": [
    "DT_split"
   ]
  },
  {
   "cell_type": "code",
   "execution_count": null,
   "id": "ccb65f79",
   "metadata": {},
   "outputs": [],
   "source": [
    "DT = pd.concat([DT,DT_split], axis = 1)\n",
    "DT"
   ]
  },
  {
   "cell_type": "code",
   "execution_count": null,
   "id": "273cb99f",
   "metadata": {},
   "outputs": [],
   "source": [
    "DT = DT.drop(columns = ['Street_Address',4,5])\n",
    "DT"
   ]
  },
  {
   "cell_type": "code",
   "execution_count": null,
   "id": "ebaf5fc1",
   "metadata": {},
   "outputs": [],
   "source": [
    "DT_split_2 = DT[2].str.split(' ', expand = True)\n",
    "DT_split_2.reset_index()"
   ]
  },
  {
   "cell_type": "code",
   "execution_count": null,
   "id": "d2fb4681",
   "metadata": {},
   "outputs": [],
   "source": [
    "DT_split_2 = DT_split_2.rename(columns = {1:'state',2:'zip'})\n",
    "DT_split_2.dtypes"
   ]
  },
  {
   "cell_type": "code",
   "execution_count": null,
   "id": "14a412af",
   "metadata": {},
   "outputs": [],
   "source": [
    "DT_split_2 = DT_split_2.drop(columns = [0])\n",
    "DT_split_2"
   ]
  },
  {
   "cell_type": "code",
   "execution_count": null,
   "id": "35588e60",
   "metadata": {},
   "outputs": [],
   "source": [
    "DT = DT.drop(columns = [2])\n",
    "DT"
   ]
  },
  {
   "cell_type": "code",
   "execution_count": null,
   "id": "0ab184a4",
   "metadata": {},
   "outputs": [],
   "source": [
    "DT = pd.concat([DT,DT_split_2], axis = 1)\n",
    "DT"
   ]
  },
  {
   "cell_type": "code",
   "execution_count": null,
   "id": "25c37512",
   "metadata": {},
   "outputs": [],
   "source": [
    "DT = DT.drop(columns = [3])\n",
    "DT"
   ]
  },
  {
   "cell_type": "code",
   "execution_count": null,
   "id": "87de5de0",
   "metadata": {},
   "outputs": [],
   "source": [
    "DT = DT.rename(columns = {0:'Street_Address',1:'City'})\n",
    "DT"
   ]
  },
  {
   "cell_type": "code",
   "execution_count": null,
   "id": "892fe6f8",
   "metadata": {},
   "outputs": [],
   "source": [
    "DT['zip'] = DT['zip'].str.replace('\\r', '')\n",
    "DT"
   ]
  },
  {
   "cell_type": "code",
   "execution_count": null,
   "id": "02e95dae",
   "metadata": {},
   "outputs": [],
   "source": [
    "DT['Street_Address'] = DT['Street_Address'].str.replace('\\r', '')\n",
    "DT"
   ]
  },
  {
   "cell_type": "code",
   "execution_count": null,
   "id": "903cc066",
   "metadata": {},
   "outputs": [],
   "source": [
    "DT_TN = DT.loc[DT['state'] == 'TN']\n",
    "DT_TN"
   ]
  },
  {
   "cell_type": "code",
   "execution_count": null,
   "id": "6d97da2c",
   "metadata": {},
   "outputs": [],
   "source": []
  }
 ],
 "metadata": {
  "kernelspec": {
   "display_name": "Python 3 (ipykernel)",
   "language": "python",
   "name": "python3"
  },
  "language_info": {
   "codemirror_mode": {
    "name": "ipython",
    "version": 3
   },
   "file_extension": ".py",
   "mimetype": "text/x-python",
   "name": "python",
   "nbconvert_exporter": "python",
   "pygments_lexer": "ipython3",
   "version": "3.10.9"
  }
 },
 "nbformat": 4,
 "nbformat_minor": 5
}
