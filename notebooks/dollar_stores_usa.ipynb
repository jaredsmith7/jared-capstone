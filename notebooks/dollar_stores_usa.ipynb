{
 "cells": [
  {
   "cell_type": "code",
   "execution_count": null,
   "id": "a47244db",
   "metadata": {},
   "outputs": [],
   "source": [
    "import pandas as pd\n",
    "import matplotlib.pyplot as plt\n",
    "import seaborn as sns\n",
    "import requests as re\n",
    "import json"
   ]
  },
  {
   "cell_type": "code",
   "execution_count": null,
   "id": "92c73b7a",
   "metadata": {},
   "outputs": [],
   "source": [
    "DG = pd.read_csv(r\"C:\\Users\\jared\\Desktop\\nss\\capstone\\data\\Dollar General.csv\")\n",
    "DG"
   ]
  },
  {
   "cell_type": "code",
   "execution_count": null,
   "id": "13c1d684",
   "metadata": {},
   "outputs": [],
   "source": [
    "FD = pd.read_csv(r\"C:\\Users\\jared\\Desktop\\nss\\capstone\\data\\FamilyDollar_USA.csv\")\n",
    "FD"
   ]
  },
  {
   "cell_type": "code",
   "execution_count": null,
   "id": "2adb048f",
   "metadata": {},
   "outputs": [],
   "source": [
    "FD = FD.drop(columns = ['Unnamed: 8'])\n",
    "FD"
   ]
  },
  {
   "cell_type": "code",
   "execution_count": null,
   "id": "d02cbf28",
   "metadata": {},
   "outputs": [],
   "source": [
    "DT = pd.read_csv(r\"C:\\Users\\jared\\Desktop\\nss\\capstone\\data\\Dollar Tree.csv\")\n",
    "DT"
   ]
  },
  {
   "cell_type": "code",
   "execution_count": null,
   "id": "6b567d80",
   "metadata": {},
   "outputs": [],
   "source": [
    "DT_split = DT['Street_Address'].str.split(',', expand = True)"
   ]
  },
  {
   "cell_type": "code",
   "execution_count": null,
   "id": "263af287",
   "metadata": {},
   "outputs": [],
   "source": [
    "DT = pd.concat([DT,DT_split], axis = 1)\n",
    "DT"
   ]
  },
  {
   "cell_type": "code",
   "execution_count": null,
   "id": "d5381b50",
   "metadata": {},
   "outputs": [],
   "source": [
    "DT = DT.drop(columns = ['Street_Address',4,5])\n",
    "DT"
   ]
  },
  {
   "cell_type": "code",
   "execution_count": null,
   "id": "25f71055",
   "metadata": {},
   "outputs": [],
   "source": [
    "DT_split_2 = DT[2].str.split(' ', expand = True)\n",
    "DT_split_2.reset_index()"
   ]
  },
  {
   "cell_type": "code",
   "execution_count": null,
   "id": "219d804e",
   "metadata": {},
   "outputs": [],
   "source": [
    "DT_split_2 = DT_split_2.rename(columns = {1:'state',2:'zip'})\n",
    "DT_split_2"
   ]
  },
  {
   "cell_type": "code",
   "execution_count": null,
   "id": "df0c2f53",
   "metadata": {},
   "outputs": [],
   "source": [
    "DT_split_2 = DT_split_2.drop(columns = [0])\n",
    "DT_split_2"
   ]
  },
  {
   "cell_type": "code",
   "execution_count": null,
   "id": "57f25d37",
   "metadata": {},
   "outputs": [],
   "source": [
    "DT"
   ]
  },
  {
   "cell_type": "code",
   "execution_count": null,
   "id": "147ca5ef",
   "metadata": {},
   "outputs": [],
   "source": [
    "DT = DT.drop(columns = [3])\n",
    "DT"
   ]
  },
  {
   "cell_type": "code",
   "execution_count": null,
   "id": "88f6a44e",
   "metadata": {},
   "outputs": [],
   "source": [
    "DT_split_3 = DT[2].str.split(' ', expand = True)\n",
    "DT_split_3"
   ]
  },
  {
   "cell_type": "code",
   "execution_count": null,
   "id": "1f869ed1",
   "metadata": {},
   "outputs": [],
   "source": [
    "DT_split_3 = DT_split_3.drop(columns = [0])\n",
    "DT_split_3"
   ]
  },
  {
   "cell_type": "code",
   "execution_count": null,
   "id": "ae095e48",
   "metadata": {},
   "outputs": [],
   "source": [
    "DT = DT.drop(columns = [1,2])\n",
    "DT"
   ]
  },
  {
   "cell_type": "code",
   "execution_count": null,
   "id": "a3a1acf9",
   "metadata": {},
   "outputs": [],
   "source": [
    "DT = pd.concat([DT,DT_split_3], axis = 1)\n",
    "DT"
   ]
  },
  {
   "cell_type": "code",
   "execution_count": null,
   "id": "e3017ed7",
   "metadata": {},
   "outputs": [],
   "source": [
    "DT = DT.rename(columns = {0:'Street_Address',1:'State',2:'Zip'})\n",
    "DT"
   ]
  },
  {
   "cell_type": "code",
   "execution_count": null,
   "id": "49debd27",
   "metadata": {},
   "outputs": [],
   "source": [
    "DT['Zip'] = DT['Zip'].str.replace('\\r', '')\n",
    "DT['Street_Address'] = DT['Street_Address'].str.replace('\\r', '')\n",
    "DT"
   ]
  },
  {
   "cell_type": "code",
   "execution_count": null,
   "id": "8e4995c3",
   "metadata": {},
   "outputs": [],
   "source": [
    "DT = DT.drop(columns = ['Street_Address','Zip'])\n",
    "DT"
   ]
  },
  {
   "cell_type": "code",
   "execution_count": null,
   "id": "c98f818b",
   "metadata": {},
   "outputs": [],
   "source": [
    "DT = DT.rename(columns = {'Store':'Location'})\n",
    "DT"
   ]
  },
  {
   "cell_type": "code",
   "execution_count": null,
   "id": "230b86b4",
   "metadata": {
    "scrolled": true
   },
   "outputs": [],
   "source": [
    "FD"
   ]
  },
  {
   "cell_type": "code",
   "execution_count": null,
   "id": "d629d560",
   "metadata": {},
   "outputs": [],
   "source": [
    "FD = FD.drop(columns = ['Street_Address','Zip','City','Store'])\n",
    "FD"
   ]
  },
  {
   "cell_type": "code",
   "execution_count": null,
   "id": "3eb26368",
   "metadata": {},
   "outputs": [],
   "source": [
    "DG"
   ]
  },
  {
   "cell_type": "code",
   "execution_count": null,
   "id": "fc04cb3b",
   "metadata": {},
   "outputs": [],
   "source": [
    "DG = DG.drop(columns = ['Street_Address','Zip','City','Store'])\n",
    "DG"
   ]
  },
  {
   "cell_type": "code",
   "execution_count": null,
   "id": "d68962fe",
   "metadata": {},
   "outputs": [],
   "source": [
    "dollar_stores_usa = pd.concat([DG, DT,FD], ignore_index=True, axis=0)\n",
    "dollar_stores_usa"
   ]
  },
  {
   "cell_type": "code",
   "execution_count": null,
   "id": "bd32486c",
   "metadata": {},
   "outputs": [],
   "source": [
    "by_state = dollar_stores_usa['State'].value_counts()\n",
    "by_state"
   ]
  },
  {
   "cell_type": "code",
   "execution_count": null,
   "id": "bf58fc45",
   "metadata": {},
   "outputs": [],
   "source": [
    "type(by_state)"
   ]
  },
  {
   "cell_type": "code",
   "execution_count": null,
   "id": "92980091",
   "metadata": {},
   "outputs": [],
   "source": [
    "by_state = pd.DataFrame(by_state).reset_index()"
   ]
  },
  {
   "cell_type": "code",
   "execution_count": null,
   "id": "5ec0a1f2",
   "metadata": {},
   "outputs": [],
   "source": [
    "by_state"
   ]
  },
  {
   "cell_type": "code",
   "execution_count": null,
   "id": "602735c8",
   "metadata": {},
   "outputs": [],
   "source": [
    "by_state = by_state.rename(columns = {'State':'Number_of_Stores'})"
   ]
  },
  {
   "cell_type": "code",
   "execution_count": null,
   "id": "d7a7d6ce",
   "metadata": {},
   "outputs": [],
   "source": [
    "by_state = by_state.rename(columns = {'index':'State'})"
   ]
  },
  {
   "cell_type": "code",
   "execution_count": null,
   "id": "e636308d",
   "metadata": {},
   "outputs": [],
   "source": [
    "by_state"
   ]
  },
  {
   "cell_type": "code",
   "execution_count": null,
   "id": "15dfac5f",
   "metadata": {},
   "outputs": [],
   "source": [
    "#by_state.to_csv(r'C:\\Users\\jared\\Desktop\\nss\\capstone\\data\\state_count.csv', index=False)"
   ]
  },
  {
   "cell_type": "code",
   "execution_count": null,
   "id": "07ad3f49",
   "metadata": {},
   "outputs": [],
   "source": [
    "dollar_stores_usa.dtypes"
   ]
  },
  {
   "cell_type": "code",
   "execution_count": null,
   "id": "45b11d12",
   "metadata": {},
   "outputs": [],
   "source": [
    "dollar_stores_usa['store'] = dollar_stores_usa.Location.str.extract('(\\S+\\s+\\S)')\n",
    "dollar_stores_usa"
   ]
  },
  {
   "cell_type": "code",
   "execution_count": null,
   "id": "b550b1c9",
   "metadata": {},
   "outputs": [],
   "source": [
    "usa_brands = dollar_stores_usa.store.value_counts()\n",
    "usa_brands"
   ]
  },
  {
   "cell_type": "code",
   "execution_count": null,
   "id": "e5d9fdb5",
   "metadata": {},
   "outputs": [],
   "source": [
    "usa_brands = pd.DataFrame(usa_brands).reset_index()\n",
    "usa_brands"
   ]
  },
  {
   "cell_type": "code",
   "execution_count": null,
   "id": "029492af",
   "metadata": {},
   "outputs": [],
   "source": [
    "usa_brands = usa_brands.rename(columns = {'store':'store_count'})\n",
    "usa_brands"
   ]
  },
  {
   "cell_type": "code",
   "execution_count": null,
   "id": "7e8b764d",
   "metadata": {},
   "outputs": [],
   "source": [
    "usa_brands = usa_brands.rename(columns = {'index':'store'})\n",
    "usa_brands"
   ]
  },
  {
   "cell_type": "code",
   "execution_count": null,
   "id": "565fbea3",
   "metadata": {},
   "outputs": [],
   "source": [
    "#usa_brands.to_csv(r'C:\\Users\\jared\\Desktop\\nss\\capstone\\data\\brand_count.csv', index=False)"
   ]
  },
  {
   "cell_type": "code",
   "execution_count": null,
   "id": "9f4d5d20",
   "metadata": {},
   "outputs": [],
   "source": []
  }
 ],
 "metadata": {
  "kernelspec": {
   "display_name": "Python 3 (ipykernel)",
   "language": "python",
   "name": "python3"
  },
  "language_info": {
   "codemirror_mode": {
    "name": "ipython",
    "version": 3
   },
   "file_extension": ".py",
   "mimetype": "text/x-python",
   "name": "python",
   "nbconvert_exporter": "python",
   "pygments_lexer": "ipython3",
   "version": "3.10.9"
  }
 },
 "nbformat": 4,
 "nbformat_minor": 5
}
