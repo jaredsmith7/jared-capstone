{
 "cells": [
  {
   "cell_type": "code",
   "execution_count": null,
   "id": "51062834",
   "metadata": {},
   "outputs": [],
   "source": [
    "import pandas as pd\n",
    "import matplotlib.pyplot as plt\n",
    "import seaborn as sns\n",
    "import requests as re\n",
    "import json"
   ]
  },
  {
   "cell_type": "code",
   "execution_count": null,
   "id": "f2f1135c",
   "metadata": {},
   "outputs": [],
   "source": [
    "FD = pd.read_csv(r\"C:\\Users\\jared\\Desktop\\nss\\capstone\\data\\FamilyDollar_USA.csv\")"
   ]
  },
  {
   "cell_type": "code",
   "execution_count": null,
   "id": "6eaded2e",
   "metadata": {
    "scrolled": true
   },
   "outputs": [],
   "source": [
    "FD"
   ]
  },
  {
   "cell_type": "code",
   "execution_count": null,
   "id": "506e574d",
   "metadata": {},
   "outputs": [],
   "source": [
    "FD_TN = FD.loc[FD['State'] == 'TN']\n",
    "FD_TN"
   ]
  },
  {
   "cell_type": "code",
   "execution_count": null,
   "id": "bd2165fd",
   "metadata": {},
   "outputs": [],
   "source": [
    "FD_TN.dtypes"
   ]
  },
  {
   "cell_type": "code",
   "execution_count": null,
   "id": "59c1668c",
   "metadata": {},
   "outputs": [],
   "source": [
    "FD_TN = FD_TN.drop(columns = ['Unnamed: 8'])\n",
    "FD_TN"
   ]
  },
  {
   "cell_type": "code",
   "execution_count": null,
   "id": "b91d0bde",
   "metadata": {},
   "outputs": [],
   "source": [
    "FD_TN.to_csv(r'C:\\Users\\jared\\Desktop\\nss\\capstone\\data\\FD_TN.csv')"
   ]
  },
  {
   "cell_type": "code",
   "execution_count": null,
   "id": "f81ec106",
   "metadata": {},
   "outputs": [],
   "source": []
  }
 ],
 "metadata": {
  "kernelspec": {
   "display_name": "Python 3 (ipykernel)",
   "language": "python",
   "name": "python3"
  },
  "language_info": {
   "codemirror_mode": {
    "name": "ipython",
    "version": 3
   },
   "file_extension": ".py",
   "mimetype": "text/x-python",
   "name": "python",
   "nbconvert_exporter": "python",
   "pygments_lexer": "ipython3",
   "version": "3.10.9"
  }
 },
 "nbformat": 4,
 "nbformat_minor": 5
}
