{
 "cells": [
  {
   "cell_type": "code",
   "execution_count": null,
   "id": "3aeeaf0b",
   "metadata": {},
   "outputs": [],
   "source": [
    "import pandas as pd\n",
    "import matplotlib.pyplot as plt\n",
    "import seaborn as sns\n",
    "import requests as re\n",
    "import json"
   ]
  },
  {
   "cell_type": "code",
   "execution_count": null,
   "id": "18a76fc1",
   "metadata": {
    "scrolled": true
   },
   "outputs": [],
   "source": [
    "DG_clean = pd.read_csv(r'C:\\Users\\jared\\Desktop\\nss\\capstone\\data\\DG_TN.csv')\n",
    "DG_clean"
   ]
  },
  {
   "cell_type": "code",
   "execution_count": null,
   "id": "59737c8c",
   "metadata": {},
   "outputs": [],
   "source": [
    "DG_clean = DG_clean.drop(columns = ['Unnamed: 0'])\n",
    "DG_clean"
   ]
  },
  {
   "cell_type": "code",
   "execution_count": null,
   "id": "80015c40",
   "metadata": {
    "scrolled": true
   },
   "outputs": [],
   "source": [
    "DT_clean = pd.read_csv(r'C:\\Users\\jared\\Desktop\\nss\\capstone\\data\\DT_TN.csv')\n",
    "DT_clean"
   ]
  },
  {
   "cell_type": "code",
   "execution_count": null,
   "id": "14562937",
   "metadata": {},
   "outputs": [],
   "source": [
    "DT_clean = DT_clean.drop(columns = ['Unnamed: 0'])\n",
    "DT_clean"
   ]
  },
  {
   "cell_type": "code",
   "execution_count": null,
   "id": "aa602cb5",
   "metadata": {
    "scrolled": true
   },
   "outputs": [],
   "source": [
    "FD_clean = pd.read_csv(r'C:\\Users\\jared\\Desktop\\nss\\capstone\\data\\FD_TN.csv')\n",
    "FD_clean"
   ]
  },
  {
   "cell_type": "code",
   "execution_count": null,
   "id": "17fac36b",
   "metadata": {},
   "outputs": [],
   "source": [
    "FD_clean = FD_clean.drop(columns = ['Unnamed: 0'])\n",
    "FD_clean"
   ]
  },
  {
   "cell_type": "code",
   "execution_count": null,
   "id": "5736b832",
   "metadata": {},
   "outputs": [],
   "source": [
    "all_metrics_clean = pd.read_csv(r'C:\\Users\\jared\\Desktop\\nss\\capstone\\data\\all_metrics.csv')\n",
    "all_metrics_clean"
   ]
  },
  {
   "cell_type": "code",
   "execution_count": null,
   "id": "663cf8af",
   "metadata": {},
   "outputs": [],
   "source": [
    "all_metrics_clean = all_metrics_clean.drop(columns = ['Unnamed: 0'])\n",
    "all_metrics_clean"
   ]
  },
  {
   "cell_type": "code",
   "execution_count": null,
   "id": "7ab3b373",
   "metadata": {},
   "outputs": [],
   "source": [
    "zips_by_county = pd.read_csv(r\"C:\\Users\\jared\\Desktop\\nss\\capstone\\data\\zips.csv\")\n",
    "zips_by_county"
   ]
  },
  {
   "cell_type": "code",
   "execution_count": null,
   "id": "2effbba1",
   "metadata": {},
   "outputs": [],
   "source": [
    "DG_clean"
   ]
  },
  {
   "cell_type": "code",
   "execution_count": null,
   "id": "0667deb6",
   "metadata": {},
   "outputs": [],
   "source": [
    "DG_clean = DG_clean.drop(columns = ['Location','Street_Address', 'Store'])\n",
    "DG_clean"
   ]
  },
  {
   "cell_type": "code",
   "execution_count": null,
   "id": "b44ddd6f",
   "metadata": {},
   "outputs": [],
   "source": [
    "DG_clean['store'] = 'Dollar General'\n",
    "DG_clean"
   ]
  },
  {
   "cell_type": "code",
   "execution_count": null,
   "id": "f052176a",
   "metadata": {},
   "outputs": [],
   "source": [
    "DT_clean"
   ]
  },
  {
   "cell_type": "code",
   "execution_count": null,
   "id": "a66528dc",
   "metadata": {},
   "outputs": [],
   "source": [
    "DT_clean = DT_clean.drop(columns = ['Street_Address', 'Store'])\n",
    "DT_clean"
   ]
  },
  {
   "cell_type": "code",
   "execution_count": null,
   "id": "8f94f84e",
   "metadata": {},
   "outputs": [],
   "source": [
    "DT_clean['store'] = 'Dollar Tree'\n",
    "DT_clean"
   ]
  },
  {
   "cell_type": "code",
   "execution_count": null,
   "id": "342048fd",
   "metadata": {},
   "outputs": [],
   "source": [
    "FD_clean"
   ]
  },
  {
   "cell_type": "code",
   "execution_count": null,
   "id": "279b0f31",
   "metadata": {},
   "outputs": [],
   "source": [
    "FD_clean = FD_clean.drop(columns = ['Location','Street_Address', 'Store'])\n",
    "FD_clean"
   ]
  },
  {
   "cell_type": "code",
   "execution_count": null,
   "id": "a3033b6e",
   "metadata": {},
   "outputs": [],
   "source": [
    "FD_clean['store'] = 'Family Dollar'\n",
    "FD_clean"
   ]
  },
  {
   "cell_type": "code",
   "execution_count": null,
   "id": "19bb04d3",
   "metadata": {},
   "outputs": [],
   "source": [
    "DT_clean = DT_clean.rename(columns = {'state':'State','zip':'Zip'})"
   ]
  },
  {
   "cell_type": "code",
   "execution_count": null,
   "id": "2fec0e54",
   "metadata": {},
   "outputs": [],
   "source": [
    "dollar_stores = pd.concat([DG_clean, DT_clean,FD_clean], ignore_index=True, axis=0)\n",
    "dollar_stores"
   ]
  },
  {
   "cell_type": "code",
   "execution_count": null,
   "id": "5f0dbc06",
   "metadata": {},
   "outputs": [],
   "source": [
    "zips_by_county = zips_by_county.drop(columns = {'City','State'})\n",
    "zips_by_county"
   ]
  },
  {
   "cell_type": "code",
   "execution_count": null,
   "id": "9fd03f97",
   "metadata": {},
   "outputs": [],
   "source": [
    "County_Dollar_Stores = pd.merge(dollar_stores, zips_by_county,  how='inner', left_on=['Zip'], right_on = ['Zipcode'])\n",
    "County_Dollar_Stores"
   ]
  },
  {
   "cell_type": "code",
   "execution_count": null,
   "id": "9764ffee",
   "metadata": {},
   "outputs": [],
   "source": [
    "County_Dollar_Stores = County_Dollar_Stores.drop(columns = {'Zip'})\n",
    "County_Dollar_Stores"
   ]
  },
  {
   "cell_type": "code",
   "execution_count": null,
   "id": "69dbc0a1",
   "metadata": {},
   "outputs": [],
   "source": [
    "County_Dollar_Stores.loc[County_Dollar_Stores['County'] == 'Williamson County']"
   ]
  },
  {
   "cell_type": "code",
   "execution_count": null,
   "id": "ed930271",
   "metadata": {},
   "outputs": [],
   "source": []
  }
 ],
 "metadata": {
  "kernelspec": {
   "display_name": "Python 3 (ipykernel)",
   "language": "python",
   "name": "python3"
  },
  "language_info": {
   "codemirror_mode": {
    "name": "ipython",
    "version": 3
   },
   "file_extension": ".py",
   "mimetype": "text/x-python",
   "name": "python",
   "nbconvert_exporter": "python",
   "pygments_lexer": "ipython3",
   "version": "3.10.9"
  }
 },
 "nbformat": 4,
 "nbformat_minor": 5
}
