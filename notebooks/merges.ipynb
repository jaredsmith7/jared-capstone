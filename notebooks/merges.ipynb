{
 "cells": [
  {
   "cell_type": "code",
   "execution_count": null,
   "id": "3aeeaf0b",
   "metadata": {},
   "outputs": [],
   "source": [
    "import pandas as pd\n",
    "import matplotlib.pyplot as plt\n",
    "import seaborn as sns\n",
    "import requests as re\n",
    "import json"
   ]
  },
  {
   "cell_type": "code",
   "execution_count": null,
   "id": "18a76fc1",
   "metadata": {
    "scrolled": true
   },
   "outputs": [],
   "source": [
    "DG_clean = pd.read_csv(r'C:\\Users\\jared\\Desktop\\nss\\capstone\\data\\DG_TN.csv')\n",
    "DG_clean"
   ]
  },
  {
   "cell_type": "code",
   "execution_count": null,
   "id": "59737c8c",
   "metadata": {},
   "outputs": [],
   "source": [
    "DG_clean = DG_clean.drop(columns = ['Unnamed: 0'])\n",
    "DG_clean"
   ]
  },
  {
   "cell_type": "code",
   "execution_count": null,
   "id": "80015c40",
   "metadata": {
    "scrolled": true
   },
   "outputs": [],
   "source": [
    "DT_clean = pd.read_csv(r'C:\\Users\\jared\\Desktop\\nss\\capstone\\data\\DT_TN.csv')\n",
    "DT_clean"
   ]
  },
  {
   "cell_type": "code",
   "execution_count": null,
   "id": "14562937",
   "metadata": {},
   "outputs": [],
   "source": [
    "DT_clean = DT_clean.drop(columns = ['Unnamed: 0'])\n",
    "DT_clean"
   ]
  },
  {
   "cell_type": "code",
   "execution_count": null,
   "id": "aa602cb5",
   "metadata": {
    "scrolled": true
   },
   "outputs": [],
   "source": [
    "FD_clean = pd.read_csv(r'C:\\Users\\jared\\Desktop\\nss\\capstone\\data\\FD_TN.csv')\n",
    "FD_clean"
   ]
  },
  {
   "cell_type": "code",
   "execution_count": null,
   "id": "17fac36b",
   "metadata": {},
   "outputs": [],
   "source": [
    "FD_clean = FD_clean.drop(columns = ['Unnamed: 0'])\n",
    "FD_clean"
   ]
  },
  {
   "cell_type": "code",
   "execution_count": null,
   "id": "5736b832",
   "metadata": {},
   "outputs": [],
   "source": [
    "all_metrics_clean = pd.read_csv(r'C:\\Users\\jared\\Desktop\\nss\\capstone\\data\\all_metrics.csv')\n",
    "all_metrics_clean"
   ]
  },
  {
   "cell_type": "code",
   "execution_count": null,
   "id": "663cf8af",
   "metadata": {},
   "outputs": [],
   "source": [
    "all_metrics_clean = all_metrics_clean.drop(columns = ['Unnamed: 0'])\n",
    "all_metrics_clean"
   ]
  },
  {
   "cell_type": "code",
   "execution_count": null,
   "id": "7ab3b373",
   "metadata": {},
   "outputs": [],
   "source": [
    "zips_by_county = pd.read_csv(r\"C:\\Users\\jared\\Desktop\\nss\\capstone\\data\\zips.csv\")\n",
    "zips_by_county"
   ]
  },
  {
   "cell_type": "code",
   "execution_count": null,
   "id": "2effbba1",
   "metadata": {},
   "outputs": [],
   "source": [
    "DG_clean"
   ]
  },
  {
   "cell_type": "code",
   "execution_count": null,
   "id": "0667deb6",
   "metadata": {},
   "outputs": [],
   "source": [
    "DG_clean = DG_clean.drop(columns = ['Location','Street_Address', 'Store'])\n",
    "DG_clean"
   ]
  },
  {
   "cell_type": "code",
   "execution_count": null,
   "id": "b44ddd6f",
   "metadata": {},
   "outputs": [],
   "source": [
    "DG_clean['store'] = 'Dollar General'\n",
    "DG_clean"
   ]
  },
  {
   "cell_type": "code",
   "execution_count": null,
   "id": "f052176a",
   "metadata": {},
   "outputs": [],
   "source": [
    "DT_clean"
   ]
  },
  {
   "cell_type": "code",
   "execution_count": null,
   "id": "a66528dc",
   "metadata": {},
   "outputs": [],
   "source": [
    "DT_clean = DT_clean.drop(columns = ['Street_Address', 'Store'])\n",
    "DT_clean"
   ]
  },
  {
   "cell_type": "code",
   "execution_count": null,
   "id": "8f94f84e",
   "metadata": {},
   "outputs": [],
   "source": [
    "DT_clean['store'] = 'Dollar Tree'\n",
    "DT_clean"
   ]
  },
  {
   "cell_type": "code",
   "execution_count": null,
   "id": "342048fd",
   "metadata": {},
   "outputs": [],
   "source": [
    "FD_clean"
   ]
  },
  {
   "cell_type": "code",
   "execution_count": null,
   "id": "279b0f31",
   "metadata": {},
   "outputs": [],
   "source": [
    "FD_clean = FD_clean.drop(columns = ['Location','Street_Address', 'Store'])\n",
    "FD_clean"
   ]
  },
  {
   "cell_type": "code",
   "execution_count": null,
   "id": "a3033b6e",
   "metadata": {},
   "outputs": [],
   "source": [
    "FD_clean['store'] = 'Family Dollar'\n",
    "FD_clean"
   ]
  },
  {
   "cell_type": "code",
   "execution_count": null,
   "id": "19bb04d3",
   "metadata": {},
   "outputs": [],
   "source": [
    "DT_clean = DT_clean.rename(columns = {'state':'State','zip':'Zip'})"
   ]
  },
  {
   "cell_type": "code",
   "execution_count": null,
   "id": "2fec0e54",
   "metadata": {},
   "outputs": [],
   "source": [
    "dollar_stores = pd.concat([DG_clean, DT_clean,FD_clean], ignore_index=True, axis=0)\n",
    "dollar_stores"
   ]
  },
  {
   "cell_type": "code",
   "execution_count": null,
   "id": "5f0dbc06",
   "metadata": {},
   "outputs": [],
   "source": [
    "zips_by_county = zips_by_county.drop(columns = {'City','State'})\n",
    "zips_by_county"
   ]
  },
  {
   "cell_type": "code",
   "execution_count": null,
   "id": "9fd03f97",
   "metadata": {},
   "outputs": [],
   "source": [
    "County_Dollar_Stores = pd.merge(dollar_stores, zips_by_county,  how='inner', left_on=['Zip'], right_on = ['Zipcode'])\n",
    "County_Dollar_Stores"
   ]
  },
  {
   "cell_type": "code",
   "execution_count": null,
   "id": "9764ffee",
   "metadata": {},
   "outputs": [],
   "source": [
    "County_Dollar_Stores = County_Dollar_Stores.drop(columns = {'Zip'})\n",
    "County_Dollar_Stores"
   ]
  },
  {
   "cell_type": "code",
   "execution_count": null,
   "id": "69dbc0a1",
   "metadata": {},
   "outputs": [],
   "source": [
    "County_Dollar_Stores"
   ]
  },
  {
   "cell_type": "code",
   "execution_count": null,
   "id": "ed930271",
   "metadata": {},
   "outputs": [],
   "source": [
    "all_metrics_clean = all_metrics_clean.drop(columns = {'YEAR'})\n",
    "all_metrics_clean"
   ]
  },
  {
   "cell_type": "code",
   "execution_count": null,
   "id": "7ccd918d",
   "metadata": {},
   "outputs": [],
   "source": [
    "all_metrics_clean['County'] = all_metrics_clean['County'].str.replace(', Tennessee','')\n",
    "all_metrics_clean"
   ]
  },
  {
   "cell_type": "code",
   "execution_count": null,
   "id": "8115c4f6",
   "metadata": {},
   "outputs": [],
   "source": [
    "all_metrics_clean['County'] = all_metrics_clean['County'].str.replace('DeKalb County','De Kalb County')"
   ]
  },
  {
   "cell_type": "code",
   "execution_count": null,
   "id": "04b1a7da",
   "metadata": {},
   "outputs": [],
   "source": [
    "County_Dollar_Stores"
   ]
  },
  {
   "cell_type": "code",
   "execution_count": null,
   "id": "255e5afa",
   "metadata": {},
   "outputs": [],
   "source": [
    "County_Dollar_Stores.value_counts('County')"
   ]
  },
  {
   "cell_type": "code",
   "execution_count": null,
   "id": "505d443a",
   "metadata": {},
   "outputs": [],
   "source": [
    "Metric_Merge = pd.merge(County_Dollar_Stores, all_metrics_clean,  how='left', left_on=['County'], right_on = ['County'])\n",
    "Metric_Merge"
   ]
  },
  {
   "cell_type": "code",
   "execution_count": null,
   "id": "4af68a1a",
   "metadata": {},
   "outputs": [],
   "source": [
    "Stores_per_county = Metric_Merge.County.value_counts().reset_index()\n",
    "Stores_per_county"
   ]
  },
  {
   "cell_type": "code",
   "execution_count": null,
   "id": "34bf151f",
   "metadata": {},
   "outputs": [],
   "source": [
    "Stores_per_county = pd.DataFrame(Stores_per_county)"
   ]
  },
  {
   "cell_type": "code",
   "execution_count": null,
   "id": "b70751f3",
   "metadata": {},
   "outputs": [],
   "source": [
    "type(Stores_per_county)"
   ]
  },
  {
   "cell_type": "code",
   "execution_count": null,
   "id": "4f8ca58e",
   "metadata": {},
   "outputs": [],
   "source": [
    "Stores_per_county = Stores_per_county.rename(columns = {'County':'County_Store_Count'})\n",
    "Stores_per_county"
   ]
  },
  {
   "cell_type": "code",
   "execution_count": null,
   "id": "2b06925d",
   "metadata": {},
   "outputs": [],
   "source": [
    "Stores_per_county = Stores_per_county.rename(columns = {'index':'County'})\n",
    "Stores_per_county"
   ]
  },
  {
   "cell_type": "code",
   "execution_count": null,
   "id": "f0982e6d",
   "metadata": {},
   "outputs": [],
   "source": [
    "Metric_Merge_2 = pd.merge(Metric_Merge, Stores_per_county,  how='inner', left_on=['County'], right_on = ['County'])\n",
    "Metric_Merge_2"
   ]
  },
  {
   "cell_type": "code",
   "execution_count": null,
   "id": "0f092fa3",
   "metadata": {},
   "outputs": [],
   "source": [
    "Metric_Merge_2['Stores_Per_Capita'] = Metric_Merge_2['County_Store_Count'] / Metric_Merge_2['Population']\n",
    "Metric_Merge_2.sort_values(by = 'Stores_Per_Capita', ascending = False)"
   ]
  },
  {
   "cell_type": "code",
   "execution_count": null,
   "id": "0e276ef4",
   "metadata": {},
   "outputs": [],
   "source": [
    "Metric_Merge_2['Stores_Per_10k'] = Metric_Merge_2['Stores_Per_Capita'] * 10000\n",
    "Metric_Merge_2.sort_values(by = \"Stores_Per_10k\", ascending = False)"
   ]
  },
  {
   "cell_type": "code",
   "execution_count": null,
   "id": "dd9375af",
   "metadata": {
    "scrolled": false
   },
   "outputs": [],
   "source": [
    "obesity = pd.read_csv(r'C:\\Users\\jared\\Desktop\\nss\\capstone\\data\\DiabetesAtlas_CountyData.csv')\n",
    "obesity"
   ]
  },
  {
   "cell_type": "code",
   "execution_count": null,
   "id": "a1ec2504",
   "metadata": {},
   "outputs": [],
   "source": [
    "obesity = obesity.drop(columns = {'CountyFIPS', 'State', 'Lower Limit',' Upper Limit'})"
   ]
  },
  {
   "cell_type": "code",
   "execution_count": null,
   "id": "6b8a3fcf",
   "metadata": {},
   "outputs": [],
   "source": [
    "obesity = obesity.drop(index = 95)\n"
   ]
  },
  {
   "cell_type": "code",
   "execution_count": null,
   "id": "c47979e0",
   "metadata": {},
   "outputs": [],
   "source": [
    "obesity.dtypes"
   ]
  },
  {
   "cell_type": "code",
   "execution_count": null,
   "id": "a7d20fa5",
   "metadata": {},
   "outputs": [],
   "source": [
    "obesity['County'] = obesity['County'].replace('Dekalb County','De Kalb County')"
   ]
  },
  {
   "cell_type": "code",
   "execution_count": null,
   "id": "45e0dd94",
   "metadata": {},
   "outputs": [],
   "source": [
    "obesity['County'] = obesity['County'].replace('Mcnairy County','McNairy County')"
   ]
  },
  {
   "cell_type": "code",
   "execution_count": null,
   "id": "f42e08ad",
   "metadata": {},
   "outputs": [],
   "source": [
    "Metric_Merge_3 = pd.merge(Metric_Merge_2, obesity,  how='left', left_on=['County'], right_on = ['County'])\n",
    "Metric_Merge_3"
   ]
  },
  {
   "cell_type": "code",
   "execution_count": null,
   "id": "e87c6d6b",
   "metadata": {
    "scrolled": true
   },
   "outputs": [],
   "source": [
    "Metric_Merge_3 = Metric_Merge_3.rename(columns = {'Percentage': 'Obesity Percentage'})\n",
    "Metric_Merge_3.sort_values(by = \"Stores_Per_10k\", ascending = False)"
   ]
  },
  {
   "cell_type": "code",
   "execution_count": null,
   "id": "e0252421",
   "metadata": {
    "scrolled": true
   },
   "outputs": [],
   "source": [
    "Metric_Merge_3['Stores_Per_10k'] = round(Metric_Merge_3['Stores_Per_10k'],2)\n",
    "Metric_Merge_3"
   ]
  },
  {
   "cell_type": "code",
   "execution_count": null,
   "id": "dffe8c05",
   "metadata": {},
   "outputs": [],
   "source": [
    "Metric_Merge_3['Stores_Per_Capita'] = round(Metric_Merge_3['Stores_Per_Capita'],5)\n",
    "Metric_Merge_3"
   ]
  },
  {
   "cell_type": "code",
   "execution_count": null,
   "id": "7893699f",
   "metadata": {},
   "outputs": [],
   "source": [
    "two_metrics = Metric_Merge_3.groupby(Metric_Merge_3['County']).mean()\n",
    "two_metrics"
   ]
  },
  {
   "cell_type": "code",
   "execution_count": null,
   "id": "b04840fd",
   "metadata": {},
   "outputs": [],
   "source": [
    "two_metrics = two_metrics.drop(columns = ['Longitude','Latitude', 'Zipcode','Population','Median_Income','Poverty_Rate', 'County_Store_Count','Obesity Percentage'])\n",
    "two_metrics"
   ]
  },
  {
   "cell_type": "markdown",
   "id": "6cdd8815",
   "metadata": {},
   "source": [
    "## Analysis"
   ]
  },
  {
   "cell_type": "code",
   "execution_count": null,
   "id": "2f1670bb",
   "metadata": {},
   "outputs": [],
   "source": [
    "all_metrics_clean"
   ]
  },
  {
   "cell_type": "code",
   "execution_count": null,
   "id": "04b4794d",
   "metadata": {},
   "outputs": [],
   "source": [
    "Stores_per_county\n"
   ]
  },
  {
   "cell_type": "code",
   "execution_count": null,
   "id": "64a2bbd0",
   "metadata": {},
   "outputs": [],
   "source": [
    "County_Merge = pd.merge(Stores_per_county, all_metrics_clean,  how='inner', left_on=['County'], right_on = ['County'])\n",
    "County_Merge"
   ]
  },
  {
   "cell_type": "code",
   "execution_count": null,
   "id": "9e43f09b",
   "metadata": {},
   "outputs": [],
   "source": [
    "County_Merge = pd.merge(County_Merge, obesity,  how='inner', left_on=['County'], right_on = ['County'])\n",
    "County_Merge"
   ]
  },
  {
   "cell_type": "code",
   "execution_count": null,
   "id": "91764fc9",
   "metadata": {},
   "outputs": [],
   "source": [
    "County_Merge = pd.merge(County_Merge, two_metrics,  how='inner', left_on=['County'], right_on = ['County'])\n",
    "County_Merge"
   ]
  },
  {
   "cell_type": "code",
   "execution_count": null,
   "id": "e5681cac",
   "metadata": {},
   "outputs": [],
   "source": [
    "County_Merge = County_Merge.rename(columns = {'Percentage': 'Obesity Percentage'})\n",
    "County_Merge"
   ]
  },
  {
   "cell_type": "markdown",
   "id": "cd234eec",
   "metadata": {},
   "source": [
    "## Summed statistics for each county"
   ]
  },
  {
   "cell_type": "code",
   "execution_count": null,
   "id": "fedd798d",
   "metadata": {},
   "outputs": [],
   "source": [
    "County_Merge.sort_values(by = \"County_Store_Count\", ascending = False).head(5)"
   ]
  },
  {
   "cell_type": "markdown",
   "id": "faa042f8",
   "metadata": {},
   "source": [
    "## The top 5 counties with the most dollar stores are directly correlated to the top 5 most populous counties in TN"
   ]
  },
  {
   "cell_type": "markdown",
   "id": "6ad113d1",
   "metadata": {},
   "source": [
    "## Sorting by stores_per_10k allows us to noramlize population when looking at dollar store prevelance, providing us with a new top 5."
   ]
  },
  {
   "cell_type": "code",
   "execution_count": null,
   "id": "d9136393",
   "metadata": {},
   "outputs": [],
   "source": [
    "County_Merge.sort_values(by = \"Stores_Per_10k\", ascending = False).head(5)"
   ]
  },
  {
   "cell_type": "code",
   "execution_count": null,
   "id": "ad1bf314",
   "metadata": {
    "scrolled": false
   },
   "outputs": [],
   "source": [
    "County_Merge.sort_values(by = \"Stores_Per_10k\", ascending = False).tail(5)"
   ]
  },
  {
   "cell_type": "markdown",
   "id": "b235026b",
   "metadata": {},
   "source": [
    "## Highest obesity rates"
   ]
  },
  {
   "cell_type": "code",
   "execution_count": null,
   "id": "bab89a08",
   "metadata": {},
   "outputs": [],
   "source": [
    "County_Merge.sort_values(by = \"Obesity Percentage\", ascending = False).head(5)"
   ]
  },
  {
   "cell_type": "code",
   "execution_count": null,
   "id": "d88037a2",
   "metadata": {},
   "outputs": [],
   "source": [
    "County_Merge"
   ]
  },
  {
   "cell_type": "code",
   "execution_count": null,
   "id": "0a1ce9a0",
   "metadata": {},
   "outputs": [],
   "source": [
    "County_Merge.corr()"
   ]
  },
  {
   "cell_type": "code",
   "execution_count": null,
   "id": "f76109c2",
   "metadata": {},
   "outputs": [],
   "source": []
  }
 ],
 "metadata": {
  "kernelspec": {
   "display_name": "Python 3 (ipykernel)",
   "language": "python",
   "name": "python3"
  },
  "language_info": {
   "codemirror_mode": {
    "name": "ipython",
    "version": 3
   },
   "file_extension": ".py",
   "mimetype": "text/x-python",
   "name": "python",
   "nbconvert_exporter": "python",
   "pygments_lexer": "ipython3",
   "version": "3.10.9"
  }
 },
 "nbformat": 4,
 "nbformat_minor": 5
}
