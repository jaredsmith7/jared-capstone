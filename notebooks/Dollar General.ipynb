{
 "cells": [
  {
   "cell_type": "code",
   "execution_count": null,
   "id": "625391d8",
   "metadata": {},
   "outputs": [],
   "source": [
    "import pandas as pd\n",
    "import matplotlib.pyplot as plt\n",
    "import seaborn as sns\n",
    "import requests as re\n",
    "import json"
   ]
  },
  {
   "cell_type": "code",
   "execution_count": null,
   "id": "fa905613",
   "metadata": {},
   "outputs": [],
   "source": [
    "DG = pd.read_csv(r\"C:\\Users\\jared\\Desktop\\nss\\capstone\\data\\Dollar General.csv\")"
   ]
  },
  {
   "cell_type": "code",
   "execution_count": null,
   "id": "49da372b",
   "metadata": {},
   "outputs": [],
   "source": [
    "DG"
   ]
  },
  {
   "cell_type": "code",
   "execution_count": null,
   "id": "9e594ca6",
   "metadata": {},
   "outputs": [],
   "source": [
    "DG_TN = DG.loc[DG['State'] == 'TN']"
   ]
  },
  {
   "cell_type": "code",
   "execution_count": null,
   "id": "b9354a2c",
   "metadata": {},
   "outputs": [],
   "source": [
    "DG_TN"
   ]
  },
  {
   "cell_type": "code",
   "execution_count": null,
   "id": "aeeeb81a",
   "metadata": {},
   "outputs": [],
   "source": [
    "DG_Split = DG_TN['Zip'].str.split('-', expand = True)\n",
    "DG_Split"
   ]
  },
  {
   "cell_type": "code",
   "execution_count": null,
   "id": "86ab8964",
   "metadata": {},
   "outputs": [],
   "source": [
    "DG_TN"
   ]
  },
  {
   "cell_type": "code",
   "execution_count": null,
   "id": "744dc19d",
   "metadata": {},
   "outputs": [],
   "source": [
    "DG_TN.to_csv(r'C:\\Users\\jared\\Desktop\\nss\\capstone\\notebooks\\DG_TN.csv')"
   ]
  },
  {
   "cell_type": "code",
   "execution_count": null,
   "id": "fa519612",
   "metadata": {},
   "outputs": [],
   "source": []
  }
 ],
 "metadata": {
  "kernelspec": {
   "display_name": "Python 3 (ipykernel)",
   "language": "python",
   "name": "python3"
  },
  "language_info": {
   "codemirror_mode": {
    "name": "ipython",
    "version": 3
   },
   "file_extension": ".py",
   "mimetype": "text/x-python",
   "name": "python",
   "nbconvert_exporter": "python",
   "pygments_lexer": "ipython3",
   "version": "3.10.9"
  }
 },
 "nbformat": 4,
 "nbformat_minor": 5
}
